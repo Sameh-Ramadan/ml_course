{
 "cells": [
  {
   "cell_type": "markdown",
   "id": "a4f49b2b",
   "metadata": {
    "papermill": {
     "duration": 0.007438,
     "end_time": "2022-07-09T15:56:28.634217",
     "exception": false,
     "start_time": "2022-07-09T15:56:28.626779",
     "status": "completed"
    },
    "tags": []
   },
   "source": [
    "### The objective of the project is to detect facial expression using image dataset. Convolutional Neural Network is used to classify the images. The output class consists of 7 different types namely angry, disgust, fear, happy, neutral, sad, surprise.\n",
    "\n",
    "Dataset download link: https://www.kaggle.com/aadityasinghal/facial-expression-dataset\n",
    "\n",
    "Environment: kaggle\n",
    "\n",
    "### Libraries\n",
    "pandas\n",
    "numpy\n",
    "matplotlib\n",
    "keras\n",
    "tensorflow\n",
    "scikit-learn\n",
    "\n",
    "### Neural Network\n",
    "CNN Network\n",
    "\n",
    "### Accuracy: 64.00"
   ]
  },
  {
   "cell_type": "markdown",
   "id": "a2cf1424",
   "metadata": {
    "papermill": {
     "duration": 0.00614,
     "end_time": "2022-07-09T15:56:28.646908",
     "exception": false,
     "start_time": "2022-07-09T15:56:28.640768",
     "status": "completed"
    },
    "tags": []
   },
   "source": [
    "### Import Modules"
   ]
  },
  {
   "cell_type": "code",
   "execution_count": 1,
   "id": "acfa2323",
   "metadata": {
    "execution": {
     "iopub.execute_input": "2022-07-09T15:56:28.661941Z",
     "iopub.status.busy": "2022-07-09T15:56:28.661078Z",
     "iopub.status.idle": "2022-07-09T15:56:34.961214Z",
     "shell.execute_reply": "2022-07-09T15:56:34.960065Z"
    },
    "papermill": {
     "duration": 6.311091,
     "end_time": "2022-07-09T15:56:34.964279",
     "exception": false,
     "start_time": "2022-07-09T15:56:28.653188",
     "status": "completed"
    },
    "tags": []
   },
   "outputs": [],
   "source": [
    "import pandas as pd\n",
    "import numpy as np\n",
    "import os\n",
    "import matplotlib.pyplot as plt\n",
    "import seaborn as sns\n",
    "import warnings\n",
    "import random\n",
    "from tqdm.notebook import tqdm\n",
    "warnings.filterwarnings('ignore')\n",
    "%matplotlib inline\n",
    "\n",
    "import tensorflow as tf\n",
    "from tensorflow.keras.utils import to_categorical\n",
    "from keras.preprocessing.image import load_img\n",
    "from keras.models import Sequential\n",
    "from keras.layers import Dense, Conv2D, Dropout, Flatten, MaxPooling2D"
   ]
  },
  {
   "cell_type": "markdown",
   "id": "29523c01",
   "metadata": {
    "papermill": {
     "duration": 0.006233,
     "end_time": "2022-07-09T15:56:34.977243",
     "exception": false,
     "start_time": "2022-07-09T15:56:34.971010",
     "status": "completed"
    },
    "tags": []
   },
   "source": [
    "### Load the Dataset"
   ]
  },
  {
   "cell_type": "code",
   "execution_count": 2,
   "id": "d70cbbf5",
   "metadata": {
    "execution": {
     "iopub.execute_input": "2022-07-09T15:56:34.991517Z",
     "iopub.status.busy": "2022-07-09T15:56:34.990949Z",
     "iopub.status.idle": "2022-07-09T15:56:34.995813Z",
     "shell.execute_reply": "2022-07-09T15:56:34.994822Z"
    },
    "papermill": {
     "duration": 0.014215,
     "end_time": "2022-07-09T15:56:34.997686",
     "exception": false,
     "start_time": "2022-07-09T15:56:34.983471",
     "status": "completed"
    },
    "tags": []
   },
   "outputs": [],
   "source": [
    "TRAIN_DIR = '../input/facial-expression-dataset/train/train/'\n",
    "TEST_DIR = '../input/facial-expression-dataset/test/test/'"
   ]
  },
  {
   "cell_type": "code",
   "execution_count": 3,
   "id": "8f870f47",
   "metadata": {
    "execution": {
     "iopub.execute_input": "2022-07-09T15:56:35.011246Z",
     "iopub.status.busy": "2022-07-09T15:56:35.010926Z",
     "iopub.status.idle": "2022-07-09T15:56:35.017949Z",
     "shell.execute_reply": "2022-07-09T15:56:35.017129Z"
    },
    "papermill": {
     "duration": 0.016112,
     "end_time": "2022-07-09T15:56:35.020004",
     "exception": false,
     "start_time": "2022-07-09T15:56:35.003892",
     "status": "completed"
    },
    "tags": []
   },
   "outputs": [],
   "source": [
    "def load_dataset(directory):\n",
    "    image_paths = []\n",
    "    labels = []\n",
    "    \n",
    "    for label in os.listdir(directory):\n",
    "        for filename in os.listdir(directory+label):\n",
    "            image_path = os.path.join(directory, label, filename)\n",
    "            image_paths.append(image_path)\n",
    "            labels.append(label)\n",
    "            \n",
    "        print(label, \"Completed\")\n",
    "        \n",
    "    return image_paths, labels"
   ]
  },
  {
   "cell_type": "code",
   "execution_count": 4,
   "id": "b949db01",
   "metadata": {
    "execution": {
     "iopub.execute_input": "2022-07-09T15:56:35.033793Z",
     "iopub.status.busy": "2022-07-09T15:56:35.033532Z",
     "iopub.status.idle": "2022-07-09T15:56:36.093038Z",
     "shell.execute_reply": "2022-07-09T15:56:36.092164Z"
    },
    "papermill": {
     "duration": 1.068739,
     "end_time": "2022-07-09T15:56:36.095019",
     "exception": false,
     "start_time": "2022-07-09T15:56:35.026280",
     "status": "completed"
    },
    "tags": []
   },
   "outputs": [
    {
     "name": "stdout",
     "output_type": "stream",
     "text": [
      "surprise Completed\n",
      "fear Completed\n",
      "angry Completed\n",
      "neutral Completed\n",
      "sad Completed\n",
      "disgust Completed\n",
      "happy Completed\n"
     ]
    },
    {
     "data": {
      "text/html": [
       "<div>\n",
       "<style scoped>\n",
       "    .dataframe tbody tr th:only-of-type {\n",
       "        vertical-align: middle;\n",
       "    }\n",
       "\n",
       "    .dataframe tbody tr th {\n",
       "        vertical-align: top;\n",
       "    }\n",
       "\n",
       "    .dataframe thead th {\n",
       "        text-align: right;\n",
       "    }\n",
       "</style>\n",
       "<table border=\"1\" class=\"dataframe\">\n",
       "  <thead>\n",
       "    <tr style=\"text-align: right;\">\n",
       "      <th></th>\n",
       "      <th>image</th>\n",
       "      <th>label</th>\n",
       "    </tr>\n",
       "  </thead>\n",
       "  <tbody>\n",
       "    <tr>\n",
       "      <th>0</th>\n",
       "      <td>../input/facial-expression-dataset/train/train...</td>\n",
       "      <td>happy</td>\n",
       "    </tr>\n",
       "    <tr>\n",
       "      <th>1</th>\n",
       "      <td>../input/facial-expression-dataset/train/train...</td>\n",
       "      <td>happy</td>\n",
       "    </tr>\n",
       "    <tr>\n",
       "      <th>2</th>\n",
       "      <td>../input/facial-expression-dataset/train/train...</td>\n",
       "      <td>neutral</td>\n",
       "    </tr>\n",
       "    <tr>\n",
       "      <th>3</th>\n",
       "      <td>../input/facial-expression-dataset/train/train...</td>\n",
       "      <td>surprise</td>\n",
       "    </tr>\n",
       "    <tr>\n",
       "      <th>4</th>\n",
       "      <td>../input/facial-expression-dataset/train/train...</td>\n",
       "      <td>fear</td>\n",
       "    </tr>\n",
       "  </tbody>\n",
       "</table>\n",
       "</div>"
      ],
      "text/plain": [
       "                                               image     label\n",
       "0  ../input/facial-expression-dataset/train/train...     happy\n",
       "1  ../input/facial-expression-dataset/train/train...     happy\n",
       "2  ../input/facial-expression-dataset/train/train...   neutral\n",
       "3  ../input/facial-expression-dataset/train/train...  surprise\n",
       "4  ../input/facial-expression-dataset/train/train...      fear"
      ]
     },
     "execution_count": 4,
     "metadata": {},
     "output_type": "execute_result"
    }
   ],
   "source": [
    "## convert into dataframe\n",
    "train = pd.DataFrame()\n",
    "train['image'], train['label'] = load_dataset(TRAIN_DIR)\n",
    "# shuffle the dataset\n",
    "train = train.sample(frac=1).reset_index(drop=True)\n",
    "train.head()"
   ]
  },
  {
   "cell_type": "code",
   "execution_count": 5,
   "id": "521f8242",
   "metadata": {
    "execution": {
     "iopub.execute_input": "2022-07-09T15:56:36.109995Z",
     "iopub.status.busy": "2022-07-09T15:56:36.109707Z",
     "iopub.status.idle": "2022-07-09T15:56:36.690319Z",
     "shell.execute_reply": "2022-07-09T15:56:36.689285Z"
    },
    "papermill": {
     "duration": 0.590128,
     "end_time": "2022-07-09T15:56:36.692119",
     "exception": false,
     "start_time": "2022-07-09T15:56:36.101991",
     "status": "completed"
    },
    "tags": []
   },
   "outputs": [
    {
     "name": "stdout",
     "output_type": "stream",
     "text": [
      "surprise Completed\n",
      "fear Completed\n",
      "angry Completed\n",
      "neutral Completed\n",
      "sad Completed\n",
      "disgust Completed\n",
      "happy Completed\n"
     ]
    },
    {
     "data": {
      "text/html": [
       "<div>\n",
       "<style scoped>\n",
       "    .dataframe tbody tr th:only-of-type {\n",
       "        vertical-align: middle;\n",
       "    }\n",
       "\n",
       "    .dataframe tbody tr th {\n",
       "        vertical-align: top;\n",
       "    }\n",
       "\n",
       "    .dataframe thead th {\n",
       "        text-align: right;\n",
       "    }\n",
       "</style>\n",
       "<table border=\"1\" class=\"dataframe\">\n",
       "  <thead>\n",
       "    <tr style=\"text-align: right;\">\n",
       "      <th></th>\n",
       "      <th>image</th>\n",
       "      <th>label</th>\n",
       "    </tr>\n",
       "  </thead>\n",
       "  <tbody>\n",
       "    <tr>\n",
       "      <th>0</th>\n",
       "      <td>../input/facial-expression-dataset/test/test/s...</td>\n",
       "      <td>surprise</td>\n",
       "    </tr>\n",
       "    <tr>\n",
       "      <th>1</th>\n",
       "      <td>../input/facial-expression-dataset/test/test/s...</td>\n",
       "      <td>surprise</td>\n",
       "    </tr>\n",
       "    <tr>\n",
       "      <th>2</th>\n",
       "      <td>../input/facial-expression-dataset/test/test/s...</td>\n",
       "      <td>surprise</td>\n",
       "    </tr>\n",
       "    <tr>\n",
       "      <th>3</th>\n",
       "      <td>../input/facial-expression-dataset/test/test/s...</td>\n",
       "      <td>surprise</td>\n",
       "    </tr>\n",
       "    <tr>\n",
       "      <th>4</th>\n",
       "      <td>../input/facial-expression-dataset/test/test/s...</td>\n",
       "      <td>surprise</td>\n",
       "    </tr>\n",
       "  </tbody>\n",
       "</table>\n",
       "</div>"
      ],
      "text/plain": [
       "                                               image     label\n",
       "0  ../input/facial-expression-dataset/test/test/s...  surprise\n",
       "1  ../input/facial-expression-dataset/test/test/s...  surprise\n",
       "2  ../input/facial-expression-dataset/test/test/s...  surprise\n",
       "3  ../input/facial-expression-dataset/test/test/s...  surprise\n",
       "4  ../input/facial-expression-dataset/test/test/s...  surprise"
      ]
     },
     "execution_count": 5,
     "metadata": {},
     "output_type": "execute_result"
    }
   ],
   "source": [
    "test = pd.DataFrame()\n",
    "test['image'], test['label'] = load_dataset(TEST_DIR)\n",
    "test.head()"
   ]
  },
  {
   "cell_type": "markdown",
   "id": "44a90901",
   "metadata": {
    "papermill": {
     "duration": 0.007164,
     "end_time": "2022-07-09T15:56:36.706743",
     "exception": false,
     "start_time": "2022-07-09T15:56:36.699579",
     "status": "completed"
    },
    "tags": []
   },
   "source": [
    "### Exploratory Data Analysis"
   ]
  },
  {
   "cell_type": "code",
   "execution_count": 6,
   "id": "1adfd77a",
   "metadata": {
    "execution": {
     "iopub.execute_input": "2022-07-09T15:56:36.724526Z",
     "iopub.status.busy": "2022-07-09T15:56:36.722661Z",
     "iopub.status.idle": "2022-07-09T15:56:36.959090Z",
     "shell.execute_reply": "2022-07-09T15:56:36.958062Z"
    },
    "papermill": {
     "duration": 0.247131,
     "end_time": "2022-07-09T15:56:36.961140",
     "exception": false,
     "start_time": "2022-07-09T15:56:36.714009",
     "status": "completed"
    },
    "tags": []
   },
   "outputs": [
    {
     "data": {
      "text/plain": [
       "<AxesSubplot:xlabel='label', ylabel='count'>"
      ]
     },
     "execution_count": 6,
     "metadata": {},
     "output_type": "execute_result"
    },
    {
     "data": {
      "image/png": "[encoded data removed]",
      "text/plain": [
       "<Figure size 432x288 with 1 Axes>"
      ]
     },
     "metadata": {
      "needs_background": "light"
     },
     "output_type": "display_data"
    }
   ],
   "source": [
    "sns.countplot(train['label'])"
   ]
  },
  {
   "cell_type": "code",
   "execution_count": 7,
   "id": "c7d9956f",
   "metadata": {
    "execution": {
     "iopub.execute_input": "2022-07-09T15:56:36.978278Z",
     "iopub.status.busy": "2022-07-09T15:56:36.977975Z",
     "iopub.status.idle": "2022-07-09T15:56:37.133192Z",
     "shell.execute_reply": "2022-07-09T15:56:37.132090Z"
    },
    "papermill": {
     "duration": 0.165834,
     "end_time": "2022-07-09T15:56:37.135399",
     "exception": false,
     "start_time": "2022-07-09T15:56:36.969565",
     "status": "completed"
    },
    "tags": []
   },
   "outputs": [
    {
     "data": {
      "image/png": "[encoded data removed]",
      "text/plain": [
       "<Figure size 432x288 with 1 Axes>"
      ]
     },
     "metadata": {
      "needs_background": "light"
     },
     "output_type": "display_data"
    }
   ],
   "source": [
    "from PIL import Image\n",
    "img = Image.open(train['image'][0])\n",
    "plt.imshow(img, cmap='gray');"
   ]
  },
  {
   "cell_type": "code",
   "execution_count": 8,
   "id": "9fb26083",
   "metadata": {
    "execution": {
     "iopub.execute_input": "2022-07-09T15:56:37.153035Z",
     "iopub.status.busy": "2022-07-09T15:56:37.152344Z",
     "iopub.status.idle": "2022-07-09T15:56:38.170528Z",
     "shell.execute_reply": "2022-07-09T15:56:38.169583Z"
    },
    "papermill": {
     "duration": 1.031159,
     "end_time": "2022-07-09T15:56:38.174589",
     "exception": false,
     "start_time": "2022-07-09T15:56:37.143430",
     "status": "completed"
    },
    "tags": []
   },
   "outputs": [
    {
     "data": {
      "image/png": "[encoded data removed]",
      "text/plain": [
       "<Figure size 1440x1440 with 25 Axes>"
      ]
     },
     "metadata": {
      "needs_background": "light"
     },
     "output_type": "display_data"
    }
   ],
   "source": [
    "# to display grid of images\n",
    "plt.figure(figsize=(20,20))\n",
    "files = train.iloc[0:25]\n",
    "\n",
    "for index, file, label in files.itertuples():\n",
    "    plt.subplot(5, 5, index+1)\n",
    "    img = load_img(file)\n",
    "    img = np.array(img)\n",
    "    plt.imshow(img)\n",
    "    plt.title(label)\n",
    "    plt.axis('off')"
   ]
  },
  {
   "cell_type": "markdown",
   "id": "6375b833",
   "metadata": {
    "papermill": {
     "duration": 0.009422,
     "end_time": "2022-07-09T15:56:38.193891",
     "exception": false,
     "start_time": "2022-07-09T15:56:38.184469",
     "status": "completed"
    },
    "tags": []
   },
   "source": [
    "### Feature Extraction"
   ]
  },
  {
   "cell_type": "code",
   "execution_count": 9,
   "id": "24ba31c7",
   "metadata": {
    "execution": {
     "iopub.execute_input": "2022-07-09T15:56:38.214740Z",
     "iopub.status.busy": "2022-07-09T15:56:38.214413Z",
     "iopub.status.idle": "2022-07-09T15:56:38.220729Z",
     "shell.execute_reply": "2022-07-09T15:56:38.219820Z"
    },
    "papermill": {
     "duration": 0.019069,
     "end_time": "2022-07-09T15:56:38.222556",
     "exception": false,
     "start_time": "2022-07-09T15:56:38.203487",
     "status": "completed"
    },
    "tags": []
   },
   "outputs": [],
   "source": [
    "def extract_features(images):\n",
    "    features = []\n",
    "    for image in tqdm(images):\n",
    "        img = load_img(image, grayscale=True)\n",
    "        img = np.array(img)\n",
    "        features.append(img)\n",
    "    features = np.array(features)\n",
    "    features = features.reshape(len(features), 48, 48, 1)\n",
    "    return features"
   ]
  },
  {
   "cell_type": "code",
   "execution_count": 10,
   "id": "22de0cb7",
   "metadata": {
    "execution": {
     "iopub.execute_input": "2022-07-09T15:56:38.244181Z",
     "iopub.status.busy": "2022-07-09T15:56:38.242747Z",
     "iopub.status.idle": "2022-07-09T15:58:11.247259Z",
     "shell.execute_reply": "2022-07-09T15:58:11.246213Z"
    },
    "papermill": {
     "duration": 93.017723,
     "end_time": "2022-07-09T15:58:11.249672",
     "exception": false,
     "start_time": "2022-07-09T15:56:38.231949",
     "status": "completed"
    },
    "tags": []
   },
   "outputs": [
    {
     "data": {
      "application/vnd.jupyter.widget-view+json": {
       "model_id": "51f8e95cdac944418b26b3e61f021b52",
       "version_major": 2,
       "version_minor": 0
      },
      "text/plain": [
       "  0%|          | 0/28709 [00:00<?, ?it/s]"
      ]
     },
     "metadata": {},
     "output_type": "display_data"
    }
   ],
   "source": [
    "train_features = extract_features(train['image'])"
   ]
  },
  {
   "cell_type": "code",
   "execution_count": 11,
   "id": "ff91d53d",
   "metadata": {
    "execution": {
     "iopub.execute_input": "2022-07-09T15:58:11.271295Z",
     "iopub.status.busy": "2022-07-09T15:58:11.270670Z",
     "iopub.status.idle": "2022-07-09T15:58:32.236138Z",
     "shell.execute_reply": "2022-07-09T15:58:32.235196Z"
    },
    "papermill": {
     "duration": 20.978665,
     "end_time": "2022-07-09T15:58:32.238343",
     "exception": false,
     "start_time": "2022-07-09T15:58:11.259678",
     "status": "completed"
    },
    "tags": []
   },
   "outputs": [
    {
     "data": {
      "application/vnd.jupyter.widget-view+json": {
       "model_id": "73b07e7944844ca097187bad184df84a",
       "version_major": 2,
       "version_minor": 0
      },
      "text/plain": [
       "  0%|          | 0/7178 [00:00<?, ?it/s]"
      ]
     },
     "metadata": {},
     "output_type": "display_data"
    }
   ],
   "source": [
    "test_features = extract_features(test['image'])"
   ]
  },
  {
   "cell_type": "code",
   "execution_count": 12,
   "id": "57be6e97",
   "metadata": {
    "execution": {
     "iopub.execute_input": "2022-07-09T15:58:32.260281Z",
     "iopub.status.busy": "2022-07-09T15:58:32.259561Z",
     "iopub.status.idle": "2022-07-09T15:58:32.467817Z",
     "shell.execute_reply": "2022-07-09T15:58:32.466843Z"
    },
    "papermill": {
     "duration": 0.221542,
     "end_time": "2022-07-09T15:58:32.470370",
     "exception": false,
     "start_time": "2022-07-09T15:58:32.248828",
     "status": "completed"
    },
    "tags": []
   },
   "outputs": [],
   "source": [
    "## normalize the image\n",
    "x_train = train_features/255.0\n",
    "x_test = test_features/255.0"
   ]
  },
  {
   "cell_type": "code",
   "execution_count": 13,
   "id": "e0e9bd34",
   "metadata": {
    "execution": {
     "iopub.execute_input": "2022-07-09T15:58:32.492525Z",
     "iopub.status.busy": "2022-07-09T15:58:32.492221Z",
     "iopub.status.idle": "2022-07-09T15:58:32.626605Z",
     "shell.execute_reply": "2022-07-09T15:58:32.625650Z"
    },
    "papermill": {
     "duration": 0.147705,
     "end_time": "2022-07-09T15:58:32.628892",
     "exception": false,
     "start_time": "2022-07-09T15:58:32.481187",
     "status": "completed"
    },
    "tags": []
   },
   "outputs": [],
   "source": [
    "## convert label to integer\n",
    "from sklearn.preprocessing import LabelEncoder\n",
    "le = LabelEncoder()\n",
    "le.fit(train['label'])\n",
    "y_train = le.transform(train['label'])\n",
    "y_test = le.transform(test['label'])"
   ]
  },
  {
   "cell_type": "code",
   "execution_count": 14,
   "id": "731ef9f7",
   "metadata": {
    "execution": {
     "iopub.execute_input": "2022-07-09T15:58:32.650718Z",
     "iopub.status.busy": "2022-07-09T15:58:32.650420Z",
     "iopub.status.idle": "2022-07-09T15:58:32.656895Z",
     "shell.execute_reply": "2022-07-09T15:58:32.656033Z"
    },
    "papermill": {
     "duration": 0.019877,
     "end_time": "2022-07-09T15:58:32.658848",
     "exception": false,
     "start_time": "2022-07-09T15:58:32.638971",
     "status": "completed"
    },
    "tags": []
   },
   "outputs": [],
   "source": [
    "y_train = to_categorical(y_train, num_classes=7)\n",
    "y_test = to_categorical(y_test, num_classes=7)"
   ]
  },
  {
   "cell_type": "code",
   "execution_count": 15,
   "id": "817c1fe4",
   "metadata": {
    "execution": {
     "iopub.execute_input": "2022-07-09T15:58:32.680492Z",
     "iopub.status.busy": "2022-07-09T15:58:32.679666Z",
     "iopub.status.idle": "2022-07-09T15:58:32.686308Z",
     "shell.execute_reply": "2022-07-09T15:58:32.685355Z"
    },
    "papermill": {
     "duration": 0.019596,
     "end_time": "2022-07-09T15:58:32.688362",
     "exception": false,
     "start_time": "2022-07-09T15:58:32.668766",
     "status": "completed"
    },
    "tags": []
   },
   "outputs": [
    {
     "data": {
      "text/plain": [
       "array([0., 0., 0., 1., 0., 0., 0.], dtype=float32)"
      ]
     },
     "execution_count": 15,
     "metadata": {},
     "output_type": "execute_result"
    }
   ],
   "source": [
    "y_train[0]"
   ]
  },
  {
   "cell_type": "code",
   "execution_count": 16,
   "id": "ee3ffb5e",
   "metadata": {
    "execution": {
     "iopub.execute_input": "2022-07-09T15:58:32.710046Z",
     "iopub.status.busy": "2022-07-09T15:58:32.709734Z",
     "iopub.status.idle": "2022-07-09T15:58:32.715042Z",
     "shell.execute_reply": "2022-07-09T15:58:32.714179Z"
    },
    "papermill": {
     "duration": 0.018565,
     "end_time": "2022-07-09T15:58:32.717104",
     "exception": false,
     "start_time": "2022-07-09T15:58:32.698539",
     "status": "completed"
    },
    "tags": []
   },
   "outputs": [],
   "source": [
    "# config\n",
    "input_shape = (48, 48, 1)\n",
    "output_class = 7"
   ]
  },
  {
   "cell_type": "markdown",
   "id": "dff60741",
   "metadata": {
    "papermill": {
     "duration": 0.009757,
     "end_time": "2022-07-09T15:58:32.736756",
     "exception": false,
     "start_time": "2022-07-09T15:58:32.726999",
     "status": "completed"
    },
    "tags": []
   },
   "source": [
    "### Model Creation"
   ]
  },
  {
   "cell_type": "code",
   "execution_count": 17,
   "id": "32dd9997",
   "metadata": {
    "execution": {
     "iopub.execute_input": "2022-07-09T15:58:32.758320Z",
     "iopub.status.busy": "2022-07-09T15:58:32.757964Z",
     "iopub.status.idle": "2022-07-09T15:58:35.916214Z",
     "shell.execute_reply": "2022-07-09T15:58:35.914756Z"
    },
    "papermill": {
     "duration": 3.171535,
     "end_time": "2022-07-09T15:58:35.918394",
     "exception": false,
     "start_time": "2022-07-09T15:58:32.746859",
     "status": "completed"
    },
    "tags": []
   },
   "outputs": [
    {
     "name": "stderr",
     "output_type": "stream",
     "text": [
      "2022-07-09 15:58:32.850762: I tensorflow/stream_executor/cuda/cuda_gpu_executor.cc:937] successful NUMA node read from SysFS had negative value (-1), but there must be at least one NUMA node, so returning NUMA node zero\n",
      "2022-07-09 15:58:33.015993: I tensorflow/stream_executor/cuda/cuda_gpu_executor.cc:937] successful NUMA node read from SysFS had negative value (-1), but there must be at least one NUMA node, so returning NUMA node zero\n",
      "2022-07-09 15:58:33.016825: I tensorflow/stream_executor/cuda/cuda_gpu_executor.cc:937] successful NUMA node read from SysFS had negative value (-1), but there must be at least one NUMA node, so returning NUMA node zero\n",
      "2022-07-09 15:58:33.018514: I tensorflow/core/platform/cpu_feature_guard.cc:142] This TensorFlow binary is optimized with oneAPI Deep Neural Network Library (oneDNN) to use the following CPU instructions in performance-critical operations:  AVX2 AVX512F FMA\n",
      "To enable them in other operations, rebuild TensorFlow with the appropriate compiler flags.\n",
      "2022-07-09 15:58:33.018824: I tensorflow/stream_executor/cuda/cuda_gpu_executor.cc:937] successful NUMA node read from SysFS had negative value (-1), but there must be at least one NUMA node, so returning NUMA node zero\n",
      "2022-07-09 15:58:33.019528: I tensorflow/stream_executor/cuda/cuda_gpu_executor.cc:937] successful NUMA node read from SysFS had negative value (-1), but there must be at least one NUMA node, so returning NUMA node zero\n",
      "2022-07-09 15:58:33.020160: I tensorflow/stream_executor/cuda/cuda_gpu_executor.cc:937] successful NUMA node read from SysFS had negative value (-1), but there must be at least one NUMA node, so returning NUMA node zero\n",
      "2022-07-09 15:58:35.269323: I tensorflow/stream_executor/cuda/cuda_gpu_executor.cc:937] successful NUMA node read from SysFS had negative value (-1), but there must be at least one NUMA node, so returning NUMA node zero\n",
      "2022-07-09 15:58:35.270180: I tensorflow/stream_executor/cuda/cuda_gpu_executor.cc:937] successful NUMA node read from SysFS had negative value (-1), but there must be at least one NUMA node, so returning NUMA node zero\n",
      "2022-07-09 15:58:35.270853: I tensorflow/stream_executor/cuda/cuda_gpu_executor.cc:937] successful NUMA node read from SysFS had negative value (-1), but there must be at least one NUMA node, so returning NUMA node zero\n",
      "2022-07-09 15:58:35.271469: I tensorflow/core/common_runtime/gpu/gpu_device.cc:1510] Created device /job:localhost/replica:0/task:0/device:GPU:0 with 15403 MB memory:  -> device: 0, name: Tesla P100-PCIE-16GB, pci bus id: 0000:00:04.0, compute capability: 6.0\n"
     ]
    }
   ],
   "source": [
    "model = Sequential()\n",
    "# convolutional layers\n",
    "model.add(Conv2D(128, kernel_size=(3,3), activation='relu', input_shape=input_shape))\n",
    "model.add(MaxPooling2D(pool_size=(2,2)))\n",
    "model.add(Dropout(0.4))\n",
    "\n",
    "model.add(Conv2D(256, kernel_size=(3,3), activation='relu'))\n",
    "model.add(MaxPooling2D(pool_size=(2,2)))\n",
    "model.add(Dropout(0.4))\n",
    "\n",
    "model.add(Conv2D(512, kernel_size=(3,3), activation='relu'))\n",
    "model.add(MaxPooling2D(pool_size=(2,2)))\n",
    "model.add(Dropout(0.4))\n",
    "\n",
    "model.add(Conv2D(512, kernel_size=(3,3), activation='relu'))\n",
    "model.add(MaxPooling2D(pool_size=(2,2)))\n",
    "model.add(Dropout(0.4))\n",
    "\n",
    "model.add(Flatten())\n",
    "# fully connected layers\n",
    "model.add(Dense(512, activation='relu'))\n",
    "model.add(Dropout(0.4))\n",
    "model.add(Dense(256, activation='relu'))\n",
    "model.add(Dropout(0.3))\n",
    "# output layer\n",
    "model.add(Dense(output_class, activation='softmax'))\n",
    "\n",
    "model.compile(optimizer='adam', loss='categorical_crossentropy', metrics='accuracy')"
   ]
  },
  {
   "cell_type": "code",
   "execution_count": 18,
   "id": "81fdc05e",
   "metadata": {
    "execution": {
     "iopub.execute_input": "2022-07-09T15:58:35.940997Z",
     "iopub.status.busy": "2022-07-09T15:58:35.940327Z",
     "iopub.status.idle": "2022-07-09T16:09:59.135417Z",
     "shell.execute_reply": "2022-07-09T16:09:59.134421Z"
    },
    "papermill": {
     "duration": 683.209234,
     "end_time": "2022-07-09T16:09:59.138083",
     "exception": false,
     "start_time": "2022-07-09T15:58:35.928849",
     "status": "completed"
    },
    "tags": []
   },
   "outputs": [
    {
     "name": "stderr",
     "output_type": "stream",
     "text": [
      "2022-07-09 15:58:36.551453: I tensorflow/compiler/mlir/mlir_graph_optimization_pass.cc:185] None of the MLIR Optimization Passes are enabled (registered 2)\n"
     ]
    },
    {
     "name": "stdout",
     "output_type": "stream",
     "text": [
      "Epoch 1/100\n"
     ]
    },
    {
     "name": "stderr",
     "output_type": "stream",
     "text": [
      "2022-07-09 15:58:38.143947: I tensorflow/stream_executor/cuda/cuda_dnn.cc:369] Loaded cuDNN version 8005\n"
     ]
    },
    {
     "name": "stdout",
     "output_type": "stream",
     "text": [
      "225/225 [==============================] - 15s 31ms/step - loss: 1.8239 - accuracy: 0.2459 - val_loss: 1.8184 - val_accuracy: 0.2471\n",
      "Epoch 2/100\n",
      "225/225 [==============================] - 7s 29ms/step - loss: 1.8126 - accuracy: 0.2513 - val_loss: 1.8033 - val_accuracy: 0.2471\n",
      "Epoch 3/100\n",
      "225/225 [==============================] - 6s 29ms/step - loss: 1.7850 - accuracy: 0.2591 - val_loss: 1.7137 - val_accuracy: 0.2987\n",
      "Epoch 4/100\n",
      "225/225 [==============================] - 6s 28ms/step - loss: 1.7045 - accuracy: 0.3030 - val_loss: 1.6513 - val_accuracy: 0.3225\n",
      "Epoch 5/100\n",
      "225/225 [==============================] - 6s 29ms/step - loss: 1.5983 - accuracy: 0.3675 - val_loss: 1.4833 - val_accuracy: 0.4248\n",
      "Epoch 6/100\n",
      "225/225 [==============================] - 6s 28ms/step - loss: 1.5129 - accuracy: 0.4074 - val_loss: 1.3752 - val_accuracy: 0.4603\n",
      "Epoch 7/100\n",
      "225/225 [==============================] - 7s 29ms/step - loss: 1.4554 - accuracy: 0.4383 - val_loss: 1.3335 - val_accuracy: 0.4852\n",
      "Epoch 8/100\n",
      "225/225 [==============================] - 6s 28ms/step - loss: 1.4073 - accuracy: 0.4612 - val_loss: 1.2977 - val_accuracy: 0.4957\n",
      "Epoch 9/100\n",
      "225/225 [==============================] - 6s 29ms/step - loss: 1.3768 - accuracy: 0.4706 - val_loss: 1.2664 - val_accuracy: 0.5185\n",
      "Epoch 10/100\n",
      "225/225 [==============================] - 6s 29ms/step - loss: 1.3511 - accuracy: 0.4833 - val_loss: 1.2384 - val_accuracy: 0.5189\n",
      "Epoch 11/100\n",
      "225/225 [==============================] - 6s 28ms/step - loss: 1.3230 - accuracy: 0.4976 - val_loss: 1.2210 - val_accuracy: 0.5267\n",
      "Epoch 12/100\n",
      "225/225 [==============================] - 6s 29ms/step - loss: 1.3077 - accuracy: 0.5007 - val_loss: 1.2013 - val_accuracy: 0.5382\n",
      "Epoch 13/100\n",
      "225/225 [==============================] - 6s 29ms/step - loss: 1.2871 - accuracy: 0.5089 - val_loss: 1.1807 - val_accuracy: 0.5507\n",
      "Epoch 14/100\n",
      "225/225 [==============================] - 6s 28ms/step - loss: 1.2690 - accuracy: 0.5213 - val_loss: 1.1787 - val_accuracy: 0.5450\n",
      "Epoch 15/100\n",
      "225/225 [==============================] - 6s 29ms/step - loss: 1.2501 - accuracy: 0.5242 - val_loss: 1.1605 - val_accuracy: 0.5588\n",
      "Epoch 16/100\n",
      "225/225 [==============================] - 6s 28ms/step - loss: 1.2429 - accuracy: 0.5270 - val_loss: 1.1470 - val_accuracy: 0.5571\n",
      "Epoch 17/100\n",
      "225/225 [==============================] - 6s 29ms/step - loss: 1.2242 - accuracy: 0.5360 - val_loss: 1.1431 - val_accuracy: 0.5603\n",
      "Epoch 18/100\n",
      "225/225 [==============================] - 6s 28ms/step - loss: 1.2160 - accuracy: 0.5388 - val_loss: 1.1520 - val_accuracy: 0.5556\n",
      "Epoch 19/100\n",
      "225/225 [==============================] - 6s 29ms/step - loss: 1.2043 - accuracy: 0.5436 - val_loss: 1.1203 - val_accuracy: 0.5751\n",
      "Epoch 20/100\n",
      "225/225 [==============================] - 6s 28ms/step - loss: 1.1957 - accuracy: 0.5449 - val_loss: 1.1166 - val_accuracy: 0.5772\n",
      "Epoch 21/100\n",
      "225/225 [==============================] - 6s 28ms/step - loss: 1.1849 - accuracy: 0.5506 - val_loss: 1.1125 - val_accuracy: 0.5772\n",
      "Epoch 22/100\n",
      "225/225 [==============================] - 7s 30ms/step - loss: 1.1828 - accuracy: 0.5521 - val_loss: 1.1064 - val_accuracy: 0.5763\n",
      "Epoch 23/100\n",
      "225/225 [==============================] - 6s 28ms/step - loss: 1.1651 - accuracy: 0.5582 - val_loss: 1.1006 - val_accuracy: 0.5853\n",
      "Epoch 24/100\n",
      "225/225 [==============================] - 6s 28ms/step - loss: 1.1546 - accuracy: 0.5647 - val_loss: 1.0931 - val_accuracy: 0.5802\n",
      "Epoch 25/100\n",
      "225/225 [==============================] - 6s 28ms/step - loss: 1.1484 - accuracy: 0.5661 - val_loss: 1.0883 - val_accuracy: 0.5893\n",
      "Epoch 26/100\n",
      "225/225 [==============================] - 6s 29ms/step - loss: 1.1363 - accuracy: 0.5702 - val_loss: 1.0811 - val_accuracy: 0.5876\n",
      "Epoch 27/100\n",
      "225/225 [==============================] - 7s 29ms/step - loss: 1.1273 - accuracy: 0.5715 - val_loss: 1.0812 - val_accuracy: 0.5913\n",
      "Epoch 28/100\n",
      "225/225 [==============================] - 6s 28ms/step - loss: 1.1201 - accuracy: 0.5784 - val_loss: 1.0780 - val_accuracy: 0.5921\n",
      "Epoch 29/100\n",
      "225/225 [==============================] - 6s 28ms/step - loss: 1.1114 - accuracy: 0.5804 - val_loss: 1.0759 - val_accuracy: 0.5958\n",
      "Epoch 30/100\n",
      "225/225 [==============================] - 6s 28ms/step - loss: 1.1036 - accuracy: 0.5817 - val_loss: 1.0783 - val_accuracy: 0.5935\n",
      "Epoch 31/100\n",
      "225/225 [==============================] - 6s 28ms/step - loss: 1.1066 - accuracy: 0.5834 - val_loss: 1.0631 - val_accuracy: 0.5956\n",
      "Epoch 32/100\n",
      "225/225 [==============================] - 6s 28ms/step - loss: 1.0939 - accuracy: 0.5855 - val_loss: 1.0679 - val_accuracy: 0.5936\n",
      "Epoch 33/100\n",
      "225/225 [==============================] - 7s 29ms/step - loss: 1.0864 - accuracy: 0.5894 - val_loss: 1.0588 - val_accuracy: 0.5957\n",
      "Epoch 34/100\n",
      "225/225 [==============================] - 6s 29ms/step - loss: 1.0799 - accuracy: 0.5939 - val_loss: 1.0696 - val_accuracy: 0.5956\n",
      "Epoch 35/100\n",
      "225/225 [==============================] - 6s 28ms/step - loss: 1.0747 - accuracy: 0.5908 - val_loss: 1.0659 - val_accuracy: 0.5996\n",
      "Epoch 36/100\n",
      "225/225 [==============================] - 6s 28ms/step - loss: 1.0684 - accuracy: 0.5957 - val_loss: 1.0506 - val_accuracy: 0.6010\n",
      "Epoch 37/100\n",
      "225/225 [==============================] - 6s 28ms/step - loss: 1.0576 - accuracy: 0.6025 - val_loss: 1.0540 - val_accuracy: 0.6030\n",
      "Epoch 38/100\n",
      "225/225 [==============================] - 6s 29ms/step - loss: 1.0539 - accuracy: 0.5996 - val_loss: 1.0477 - val_accuracy: 0.6011\n",
      "Epoch 39/100\n",
      "225/225 [==============================] - 6s 28ms/step - loss: 1.0397 - accuracy: 0.6099 - val_loss: 1.0542 - val_accuracy: 0.6028\n",
      "Epoch 40/100\n",
      "225/225 [==============================] - 6s 28ms/step - loss: 1.0399 - accuracy: 0.6050 - val_loss: 1.0539 - val_accuracy: 0.6046\n",
      "Epoch 41/100\n",
      "225/225 [==============================] - 6s 28ms/step - loss: 1.0379 - accuracy: 0.6122 - val_loss: 1.0629 - val_accuracy: 0.6014\n",
      "Epoch 42/100\n",
      "225/225 [==============================] - 6s 28ms/step - loss: 1.0239 - accuracy: 0.6160 - val_loss: 1.0426 - val_accuracy: 0.6084\n",
      "Epoch 43/100\n",
      "225/225 [==============================] - 6s 29ms/step - loss: 1.0250 - accuracy: 0.6108 - val_loss: 1.0385 - val_accuracy: 0.6052\n",
      "Epoch 44/100\n",
      "225/225 [==============================] - 6s 28ms/step - loss: 1.0159 - accuracy: 0.6201 - val_loss: 1.0450 - val_accuracy: 0.6080\n",
      "Epoch 45/100\n",
      "225/225 [==============================] - 6s 28ms/step - loss: 1.0118 - accuracy: 0.6175 - val_loss: 1.0535 - val_accuracy: 0.6002\n",
      "Epoch 46/100\n",
      "225/225 [==============================] - 6s 29ms/step - loss: 1.0106 - accuracy: 0.6215 - val_loss: 1.0396 - val_accuracy: 0.6092\n",
      "Epoch 47/100\n",
      "225/225 [==============================] - 6s 28ms/step - loss: 0.9987 - accuracy: 0.6238 - val_loss: 1.0384 - val_accuracy: 0.6115\n",
      "Epoch 48/100\n",
      "225/225 [==============================] - 6s 29ms/step - loss: 0.9880 - accuracy: 0.6279 - val_loss: 1.0350 - val_accuracy: 0.6116\n",
      "Epoch 49/100\n",
      "225/225 [==============================] - 6s 28ms/step - loss: 0.9859 - accuracy: 0.6280 - val_loss: 1.0242 - val_accuracy: 0.6135\n",
      "Epoch 50/100\n",
      "225/225 [==============================] - 6s 28ms/step - loss: 0.9825 - accuracy: 0.6324 - val_loss: 1.0233 - val_accuracy: 0.6134\n",
      "Epoch 51/100\n",
      "225/225 [==============================] - 6s 29ms/step - loss: 0.9756 - accuracy: 0.6346 - val_loss: 1.0237 - val_accuracy: 0.6173\n",
      "Epoch 52/100\n",
      "225/225 [==============================] - 6s 28ms/step - loss: 0.9787 - accuracy: 0.6350 - val_loss: 1.0274 - val_accuracy: 0.6170\n",
      "Epoch 53/100\n",
      "225/225 [==============================] - 7s 29ms/step - loss: 0.9662 - accuracy: 0.6382 - val_loss: 1.0342 - val_accuracy: 0.6124\n",
      "Epoch 54/100\n",
      "225/225 [==============================] - 6s 28ms/step - loss: 0.9671 - accuracy: 0.6359 - val_loss: 1.0218 - val_accuracy: 0.6180\n",
      "Epoch 55/100\n",
      "225/225 [==============================] - 6s 28ms/step - loss: 0.9599 - accuracy: 0.6379 - val_loss: 1.0262 - val_accuracy: 0.6160\n",
      "Epoch 56/100\n",
      "225/225 [==============================] - 6s 28ms/step - loss: 0.9559 - accuracy: 0.6454 - val_loss: 1.0268 - val_accuracy: 0.6148\n",
      "Epoch 57/100\n",
      "225/225 [==============================] - 6s 28ms/step - loss: 0.9487 - accuracy: 0.6463 - val_loss: 1.0180 - val_accuracy: 0.6174\n",
      "Epoch 58/100\n",
      "225/225 [==============================] - 6s 29ms/step - loss: 0.9453 - accuracy: 0.6461 - val_loss: 1.0199 - val_accuracy: 0.6186\n",
      "Epoch 59/100\n",
      "225/225 [==============================] - 6s 28ms/step - loss: 0.9423 - accuracy: 0.6469 - val_loss: 1.0212 - val_accuracy: 0.6180\n",
      "Epoch 60/100\n",
      "225/225 [==============================] - 6s 28ms/step - loss: 0.9405 - accuracy: 0.6492 - val_loss: 1.0309 - val_accuracy: 0.6169\n",
      "Epoch 61/100\n",
      "225/225 [==============================] - 6s 28ms/step - loss: 0.9405 - accuracy: 0.6496 - val_loss: 1.0230 - val_accuracy: 0.6156\n",
      "Epoch 62/100\n",
      "225/225 [==============================] - 6s 28ms/step - loss: 0.9243 - accuracy: 0.6589 - val_loss: 1.0164 - val_accuracy: 0.6181\n",
      "Epoch 63/100\n",
      "225/225 [==============================] - 7s 29ms/step - loss: 0.9177 - accuracy: 0.6558 - val_loss: 1.0148 - val_accuracy: 0.6213\n",
      "Epoch 64/100\n",
      "225/225 [==============================] - 6s 28ms/step - loss: 0.9186 - accuracy: 0.6583 - val_loss: 1.0366 - val_accuracy: 0.6128\n",
      "Epoch 65/100\n",
      "225/225 [==============================] - 6s 29ms/step - loss: 0.9142 - accuracy: 0.6599 - val_loss: 1.0323 - val_accuracy: 0.6119\n",
      "Epoch 66/100\n",
      "225/225 [==============================] - 7s 29ms/step - loss: 0.9136 - accuracy: 0.6600 - val_loss: 1.0169 - val_accuracy: 0.6201\n",
      "Epoch 67/100\n",
      "225/225 [==============================] - 6s 28ms/step - loss: 0.9087 - accuracy: 0.6604 - val_loss: 1.0218 - val_accuracy: 0.6179\n",
      "Epoch 68/100\n",
      "225/225 [==============================] - 6s 29ms/step - loss: 0.8988 - accuracy: 0.6638 - val_loss: 1.0176 - val_accuracy: 0.6190\n",
      "Epoch 69/100\n",
      "225/225 [==============================] - 6s 28ms/step - loss: 0.8868 - accuracy: 0.6699 - val_loss: 1.0179 - val_accuracy: 0.6202\n",
      "Epoch 70/100\n",
      "225/225 [==============================] - 6s 29ms/step - loss: 0.8862 - accuracy: 0.6691 - val_loss: 1.0198 - val_accuracy: 0.6226\n",
      "Epoch 71/100\n",
      "225/225 [==============================] - 6s 28ms/step - loss: 0.8763 - accuracy: 0.6730 - val_loss: 1.0289 - val_accuracy: 0.6187\n",
      "Epoch 72/100\n",
      "225/225 [==============================] - 6s 28ms/step - loss: 0.8800 - accuracy: 0.6770 - val_loss: 1.0254 - val_accuracy: 0.6232\n",
      "Epoch 73/100\n",
      "225/225 [==============================] - 6s 29ms/step - loss: 0.8754 - accuracy: 0.6756 - val_loss: 1.0239 - val_accuracy: 0.6166\n",
      "Epoch 74/100\n",
      "225/225 [==============================] - 6s 28ms/step - loss: 0.8692 - accuracy: 0.6787 - val_loss: 1.0227 - val_accuracy: 0.6173\n",
      "Epoch 75/100\n",
      "225/225 [==============================] - 6s 28ms/step - loss: 0.8622 - accuracy: 0.6824 - val_loss: 1.0253 - val_accuracy: 0.6241\n",
      "Epoch 76/100\n",
      "225/225 [==============================] - 6s 28ms/step - loss: 0.8611 - accuracy: 0.6820 - val_loss: 1.0243 - val_accuracy: 0.6195\n",
      "Epoch 77/100\n",
      "225/225 [==============================] - 6s 28ms/step - loss: 0.8517 - accuracy: 0.6809 - val_loss: 1.0332 - val_accuracy: 0.6213\n",
      "Epoch 78/100\n",
      "225/225 [==============================] - 6s 29ms/step - loss: 0.8517 - accuracy: 0.6883 - val_loss: 1.0304 - val_accuracy: 0.6165\n",
      "Epoch 79/100\n",
      "225/225 [==============================] - 6s 29ms/step - loss: 0.8451 - accuracy: 0.6900 - val_loss: 1.0295 - val_accuracy: 0.6148\n",
      "Epoch 80/100\n",
      "225/225 [==============================] - 6s 28ms/step - loss: 0.8531 - accuracy: 0.6892 - val_loss: 1.0185 - val_accuracy: 0.6190\n",
      "Epoch 81/100\n",
      "225/225 [==============================] - 6s 28ms/step - loss: 0.8504 - accuracy: 0.6841 - val_loss: 1.0252 - val_accuracy: 0.6259\n",
      "Epoch 82/100\n",
      "225/225 [==============================] - 6s 28ms/step - loss: 0.8409 - accuracy: 0.6909 - val_loss: 1.0244 - val_accuracy: 0.6197\n",
      "Epoch 83/100\n",
      "225/225 [==============================] - 6s 28ms/step - loss: 0.8414 - accuracy: 0.6927 - val_loss: 1.0330 - val_accuracy: 0.6212\n",
      "Epoch 84/100\n",
      "225/225 [==============================] - 6s 29ms/step - loss: 0.8311 - accuracy: 0.6935 - val_loss: 1.0165 - val_accuracy: 0.6243\n",
      "Epoch 85/100\n",
      "225/225 [==============================] - 6s 28ms/step - loss: 0.8237 - accuracy: 0.6951 - val_loss: 1.0279 - val_accuracy: 0.6255\n",
      "Epoch 86/100\n",
      "225/225 [==============================] - 6s 28ms/step - loss: 0.8241 - accuracy: 0.6963 - val_loss: 1.0330 - val_accuracy: 0.6248\n",
      "Epoch 87/100\n",
      "225/225 [==============================] - 6s 28ms/step - loss: 0.8141 - accuracy: 0.6984 - val_loss: 1.0166 - val_accuracy: 0.6325\n",
      "Epoch 88/100\n",
      "225/225 [==============================] - 6s 28ms/step - loss: 0.8104 - accuracy: 0.7035 - val_loss: 1.0208 - val_accuracy: 0.6268\n",
      "Epoch 89/100\n",
      "225/225 [==============================] - 6s 28ms/step - loss: 0.8201 - accuracy: 0.6992 - val_loss: 1.0143 - val_accuracy: 0.6258\n",
      "Epoch 90/100\n",
      "225/225 [==============================] - 6s 28ms/step - loss: 0.8017 - accuracy: 0.7071 - val_loss: 1.0218 - val_accuracy: 0.6197\n",
      "Epoch 91/100\n",
      "225/225 [==============================] - 6s 28ms/step - loss: 0.7992 - accuracy: 0.7092 - val_loss: 1.0195 - val_accuracy: 0.6252\n",
      "Epoch 92/100\n",
      "225/225 [==============================] - 6s 28ms/step - loss: 0.7907 - accuracy: 0.7099 - val_loss: 1.0244 - val_accuracy: 0.6275\n",
      "Epoch 93/100\n",
      "225/225 [==============================] - 6s 29ms/step - loss: 0.7941 - accuracy: 0.7059 - val_loss: 1.0242 - val_accuracy: 0.6296\n",
      "Epoch 94/100\n",
      "225/225 [==============================] - 7s 29ms/step - loss: 0.7902 - accuracy: 0.7090 - val_loss: 1.0287 - val_accuracy: 0.6264\n",
      "Epoch 95/100\n",
      "225/225 [==============================] - 6s 28ms/step - loss: 0.7890 - accuracy: 0.7113 - val_loss: 1.0181 - val_accuracy: 0.6278\n",
      "Epoch 96/100\n",
      "225/225 [==============================] - 6s 28ms/step - loss: 0.7797 - accuracy: 0.7159 - val_loss: 1.0175 - val_accuracy: 0.6322\n",
      "Epoch 97/100\n",
      "225/225 [==============================] - 6s 28ms/step - loss: 0.7778 - accuracy: 0.7132 - val_loss: 1.0295 - val_accuracy: 0.6342\n",
      "Epoch 98/100\n",
      "225/225 [==============================] - 7s 29ms/step - loss: 0.7796 - accuracy: 0.7148 - val_loss: 1.0113 - val_accuracy: 0.6329\n",
      "Epoch 99/100\n",
      "225/225 [==============================] - 6s 29ms/step - loss: 0.7645 - accuracy: 0.7218 - val_loss: 1.0513 - val_accuracy: 0.6284\n",
      "Epoch 100/100\n",
      "225/225 [==============================] - 6s 28ms/step - loss: 0.7680 - accuracy: 0.7180 - val_loss: 1.0209 - val_accuracy: 0.6322\n"
     ]
    }
   ],
   "source": [
    "# train the model\n",
    "history = model.fit(x=x_train, y=y_train, batch_size=128, epochs=100, validation_data=(x_test, y_test))"
   ]
  },
  {
   "cell_type": "markdown",
   "id": "44b385bc",
   "metadata": {
    "papermill": {
     "duration": 0.730275,
     "end_time": "2022-07-09T16:10:00.565964",
     "exception": false,
     "start_time": "2022-07-09T16:09:59.835689",
     "status": "completed"
    },
    "tags": []
   },
   "source": [
    "### Plot the Results"
   ]
  },
  {
   "cell_type": "code",
   "execution_count": 19,
   "id": "898015a4",
   "metadata": {
    "execution": {
     "iopub.execute_input": "2022-07-09T16:10:01.991954Z",
     "iopub.status.busy": "2022-07-09T16:10:01.990485Z",
     "iopub.status.idle": "2022-07-09T16:10:02.355527Z",
     "shell.execute_reply": "2022-07-09T16:10:02.354486Z"
    },
    "papermill": {
     "duration": 1.10737,
     "end_time": "2022-07-09T16:10:02.357565",
     "exception": false,
     "start_time": "2022-07-09T16:10:01.250195",
     "status": "completed"
    },
    "tags": []
   },
   "outputs": [
    {
     "data": {
      "image/png": "[encoded data removed]",
      "text/plain": [
       "<Figure size 432x288 with 1 Axes>"
      ]
     },
     "metadata": {
      "needs_background": "light"
     },
     "output_type": "display_data"
    },
    {
     "data": {
      "image/png": "[encoded data removed]",
      "text/plain": [
       "<Figure size 432x288 with 1 Axes>"
      ]
     },
     "metadata": {
      "needs_background": "light"
     },
     "output_type": "display_data"
    }
   ],
   "source": [
    "acc = history.history['accuracy']\n",
    "val_acc = history.history['val_accuracy']\n",
    "epochs = range(len(acc))\n",
    "\n",
    "plt.plot(epochs, acc, 'b', label='Training Accuracy')\n",
    "plt.plot(epochs, val_acc, 'r', label='Validation Accuracy')\n",
    "plt.title('Accuracy Graph')\n",
    "plt.legend()\n",
    "plt.figure()\n",
    "\n",
    "loss = history.history['loss']\n",
    "val_loss = history.history['val_loss']\n",
    "epochs = range(len(acc))\n",
    "\n",
    "plt.plot(epochs, loss, 'b', label='Training Loss')\n",
    "plt.plot(epochs, val_loss, 'r', label='Validation Loss')\n",
    "plt.title('Loss Graph')\n",
    "plt.legend()\n",
    "\n",
    "plt.show()"
   ]
  },
  {
   "cell_type": "markdown",
   "id": "2db8e466",
   "metadata": {
    "papermill": {
     "duration": 0.742282,
     "end_time": "2022-07-09T16:10:03.784291",
     "exception": false,
     "start_time": "2022-07-09T16:10:03.042009",
     "status": "completed"
    },
    "tags": []
   },
   "source": [
    "### Test with Image Data"
   ]
  },
  {
   "cell_type": "code",
   "execution_count": 20,
   "id": "eefbc3e8",
   "metadata": {
    "execution": {
     "iopub.execute_input": "2022-07-09T16:10:05.447597Z",
     "iopub.status.busy": "2022-07-09T16:10:05.447234Z",
     "iopub.status.idle": "2022-07-09T16:10:05.775086Z",
     "shell.execute_reply": "2022-07-09T16:10:05.774191Z"
    },
    "papermill": {
     "duration": 1.066977,
     "end_time": "2022-07-09T16:10:05.777243",
     "exception": false,
     "start_time": "2022-07-09T16:10:04.710266",
     "status": "completed"
    },
    "tags": []
   },
   "outputs": [
    {
     "name": "stdout",
     "output_type": "stream",
     "text": [
      "Original Output: fear\n",
      "Predicted Output: fear\n"
     ]
    },
    {
     "data": {
      "image/png": "[encoded data removed]",
      "text/plain": [
       "<Figure size 432x288 with 1 Axes>"
      ]
     },
     "metadata": {
      "needs_background": "light"
     },
     "output_type": "display_data"
    }
   ],
   "source": [
    "image_index = random.randint(0, len(test))\n",
    "print(\"Original Output:\", test['label'][image_index])\n",
    "pred = model.predict(x_test[image_index].reshape(1, 48, 48, 1))\n",
    "prediction_label = le.inverse_transform([pred.argmax()])[0]\n",
    "print(\"Predicted Output:\", prediction_label)\n",
    "plt.imshow(x_test[image_index].reshape(48, 48), cmap='gray');"
   ]
  },
  {
   "cell_type": "code",
   "execution_count": 21,
   "id": "a79b36cf",
   "metadata": {
    "execution": {
     "iopub.execute_input": "2022-07-09T16:10:07.194590Z",
     "iopub.status.busy": "2022-07-09T16:10:07.194196Z",
     "iopub.status.idle": "2022-07-09T16:10:07.385505Z",
     "shell.execute_reply": "2022-07-09T16:10:07.384611Z"
    },
    "papermill": {
     "duration": 0.930625,
     "end_time": "2022-07-09T16:10:07.387474",
     "exception": false,
     "start_time": "2022-07-09T16:10:06.456849",
     "status": "completed"
    },
    "tags": []
   },
   "outputs": [
    {
     "name": "stdout",
     "output_type": "stream",
     "text": [
      "Original Output: sad\n",
      "Predicted Output: neutral\n"
     ]
    },
    {
     "data": {
      "image/png": "[encoded data removed]",
      "text/plain": [
       "<Figure size 432x288 with 1 Axes>"
      ]
     },
     "metadata": {
      "needs_background": "light"
     },
     "output_type": "display_data"
    }
   ],
   "source": [
    "image_index = random.randint(0, len(test))\n",
    "print(\"Original Output:\", test['label'][image_index])\n",
    "pred = model.predict(x_test[image_index].reshape(1, 48, 48, 1))\n",
    "prediction_label = le.inverse_transform([pred.argmax()])[0]\n",
    "print(\"Predicted Output:\", prediction_label)\n",
    "plt.imshow(x_test[image_index].reshape(48, 48), cmap='gray');"
   ]
  },
  {
   "cell_type": "code",
   "execution_count": 22,
   "id": "4e7ad9f5",
   "metadata": {
    "execution": {
     "iopub.execute_input": "2022-07-09T16:10:08.823917Z",
     "iopub.status.busy": "2022-07-09T16:10:08.823543Z",
     "iopub.status.idle": "2022-07-09T16:10:09.015154Z",
     "shell.execute_reply": "2022-07-09T16:10:09.014074Z"
    },
    "papermill": {
     "duration": 0.942286,
     "end_time": "2022-07-09T16:10:09.017297",
     "exception": false,
     "start_time": "2022-07-09T16:10:08.075011",
     "status": "completed"
    },
    "tags": []
   },
   "outputs": [
    {
     "name": "stdout",
     "output_type": "stream",
     "text": [
      "Original Output: neutral\n",
      "Predicted Output: neutral\n"
     ]
    },
    {
     "data": {
      "image/png": "[encoded data removed]",
      "text/plain": [
       "<Figure size 432x288 with 1 Axes>"
      ]
     },
     "metadata": {
      "needs_background": "light"
     },
     "output_type": "display_data"
    }
   ],
   "source": [
    "image_index = random.randint(0, len(test))\n",
    "print(\"Original Output:\", test['label'][image_index])\n",
    "pred = model.predict(x_test[image_index].reshape(1, 48, 48, 1))\n",
    "prediction_label = le.inverse_transform([pred.argmax()])[0]\n",
    "print(\"Predicted Output:\", prediction_label)\n",
    "plt.imshow(x_test[image_index].reshape(48, 48), cmap='gray');"
   ]
  }
 ],
 "metadata": {
  "kernelspec": {
   "display_name": "Python 3",
   "language": "python",
   "name": "python3"
  },
  "language_info": {
   "codemirror_mode": {
    "name": "ipython",
    "version": 3
   },
   "file_extension": ".py",
   "mimetype": "text/x-python",
   "name": "python",
   "nbconvert_exporter": "python",
   "pygments_lexer": "ipython3",
   "version": "3.7.12"
  },
  "papermill": {
   "default_parameters": {},
   "duration": 832.008349,
   "end_time": "2022-07-09T16:10:12.538078",
   "environment_variables": {},
   "exception": null,
   "input_path": "__notebook__.ipynb",
   "output_path": "__notebook__.ipynb",
   "parameters": {},
   "start_time": "2022-07-09T15:56:20.529729",
   "version": "2.3.4"
  },
  "widgets": {
   "application/vnd.jupyter.widget-state+json": {
    "state": {
     "089a37058db146c6b37eab7f4654ddf3": {
      "model_module": "@jupyter-widgets/controls",
      "model_module_version": "1.5.0",
      "model_name": "HTMLModel",
      "state": {
       "_dom_classes": [],
       "_model_module": "@jupyter-widgets/controls",
       "_model_module_version": "1.5.0",
       "_model_name": "HTMLModel",
       "_view_count": null,
       "_view_module": "@jupyter-widgets/controls",
       "_view_module_version": "1.5.0",
       "_view_name": "HTMLView",
       "description": "",
       "description_tooltip": null,
       "layout": "IPY_MODEL_68139430989845d5ae9bb68888aaf0ea",
       "placeholder": "​",
       "style": "IPY_MODEL_3c4d89b77f304d9c8473154b822e8c86",
       "value": " 7178/7178 [00:20&lt;00:00, 317.60it/s]"
      }
     },
     "38e3156f76d1400ba5e19c1bcd2c40ed": {
      "model_module": "@jupyter-widgets/controls",
      "model_module_version": "1.5.0",
      "model_name": "HTMLModel",
      "state": {
       "_dom_classes": [],
       "_model_module": "@jupyter-widgets/controls",
       "_model_module_version": "1.5.0",
       "_model_name": "HTMLModel",
       "_view_count": null,
       "_view_module": "@jupyter-widgets/controls",
       "_view_module_version": "1.5.0",
       "_view_name": "HTMLView",
       "description": "",
       "description_tooltip": null,
       "layout": "IPY_MODEL_a1e851cf96c944eab4aba2291c5fc085",
       "placeholder": "​",
       "style": "IPY_MODEL_cacc95a32c1c45e8aadc274197f9da0a",
       "value": "100%"
      }
     },
     "3c4d89b77f304d9c8473154b822e8c86": {
      "model_module": "@jupyter-widgets/controls",
      "model_module_version": "1.5.0",
      "model_name": "DescriptionStyleModel",
      "state": {
       "_model_module": "@jupyter-widgets/controls",
       "_model_module_version": "1.5.0",
       "_model_name": "DescriptionStyleModel",
       "_view_count": null,
       "_view_module": "@jupyter-widgets/base",
       "_view_module_version": "1.2.0",
       "_view_name": "StyleView",
       "description_width": ""
      }
     },
     "4fa9230e822441b19b3d0a20a8314cba": {
      "model_module": "@jupyter-widgets/base",
      "model_module_version": "1.2.0",
      "model_name": "LayoutModel",
      "state": {
       "_model_module": "@jupyter-widgets/base",
       "_model_module_version": "1.2.0",
       "_model_name": "LayoutModel",
       "_view_count": null,
       "_view_module": "@jupyter-widgets/base",
       "_view_module_version": "1.2.0",
       "_view_name": "LayoutView",
       "align_content": null,
       "align_items": null,
       "align_self": null,
       "border": null,
       "bottom": null,
       "display": null,
       "flex": null,
       "flex_flow": null,
       "grid_area": null,
       "grid_auto_columns": null,
       "grid_auto_flow": null,
       "grid_auto_rows": null,
       "grid_column": null,
       "grid_gap": null,
       "grid_row": null,
       "grid_template_areas": null,
       "grid_template_columns": null,
       "grid_template_rows": null,
       "height": null,
       "justify_content": null,
       "justify_items": null,
       "left": null,
       "margin": null,
       "max_height": null,
       "max_width": null,
       "min_height": null,
       "min_width": null,
       "object_fit": null,
       "object_position": null,
       "order": null,
       "overflow": null,
       "overflow_x": null,
       "overflow_y": null,
       "padding": null,
       "right": null,
       "top": null,
       "visibility": null,
       "width": null
      }
     },
     "51f8e95cdac944418b26b3e61f021b52": {
      "model_module": "@jupyter-widgets/controls",
      "model_module_version": "1.5.0",
      "model_name": "HBoxModel",
      "state": {
       "_dom_classes": [],
       "_model_module": "@jupyter-widgets/controls",
       "_model_module_version": "1.5.0",
       "_model_name": "HBoxModel",
       "_view_count": null,
       "_view_module": "@jupyter-widgets/controls",
       "_view_module_version": "1.5.0",
       "_view_name": "HBoxView",
       "box_style": "",
       "children": [
        "IPY_MODEL_ca2e0150656e4d70abced59a5af3dcfd",
        "IPY_MODEL_bd5cde1f532e45cd8bc6999e8b466fd8",
        "IPY_MODEL_764d56112a9f4bc1bd71370f6c154835"
       ],
       "layout": "IPY_MODEL_b9f93b6c1de54239a1c175d11f69e73e"
      }
     },
     "53436ac6f4674d12b1a9050a47e86380": {
      "model_module": "@jupyter-widgets/controls",
      "model_module_version": "1.5.0",
      "model_name": "FloatProgressModel",
      "state": {
       "_dom_classes": [],
       "_model_module": "@jupyter-widgets/controls",
       "_model_module_version": "1.5.0",
       "_model_name": "FloatProgressModel",
       "_view_count": null,
       "_view_module": "@jupyter-widgets/controls",
       "_view_module_version": "1.5.0",
       "_view_name": "ProgressView",
       "bar_style": "success",
       "description": "",
       "description_tooltip": null,
       "layout": "IPY_MODEL_6f3b30c717ca4ad8b735a8515ad74b40",
       "max": 7178.0,
       "min": 0.0,
       "orientation": "horizontal",
       "style": "IPY_MODEL_c459a848fecb4866b1f168b59c2e512d",
       "value": 7178.0
      }
     },
     "56c03a3661bd4c46a203dac805a0eecc": {
      "model_module": "@jupyter-widgets/base",
      "model_module_version": "1.2.0",
      "model_name": "LayoutModel",
      "state": {
       "_model_module": "@jupyter-widgets/base",
       "_model_module_version": "1.2.0",
       "_model_name": "LayoutModel",
       "_view_count": null,
       "_view_module": "@jupyter-widgets/base",
       "_view_module_version": "1.2.0",
       "_view_name": "LayoutView",
       "align_content": null,
       "align_items": null,
       "align_self": null,
       "border": null,
       "bottom": null,
       "display": null,
       "flex": null,
       "flex_flow": null,
       "grid_area": null,
       "grid_auto_columns": null,
       "grid_auto_flow": null,
       "grid_auto_rows": null,
       "grid_column": null,
       "grid_gap": null,
       "grid_row": null,
       "grid_template_areas": null,
       "grid_template_columns": null,
       "grid_template_rows": null,
       "height": null,
       "justify_content": null,
       "justify_items": null,
       "left": null,
       "margin": null,
       "max_height": null,
       "max_width": null,
       "min_height": null,
       "min_width": null,
       "object_fit": null,
       "object_position": null,
       "order": null,
       "overflow": null,
       "overflow_x": null,
       "overflow_y": null,
       "padding": null,
       "right": null,
       "top": null,
       "visibility": null,
       "width": null
      }
     },
     "68139430989845d5ae9bb68888aaf0ea": {
      "model_module": "@jupyter-widgets/base",
      "model_module_version": "1.2.0",
      "model_name": "LayoutModel",
      "state": {
       "_model_module": "@jupyter-widgets/base",
       "_model_module_version": "1.2.0",
       "_model_name": "LayoutModel",
       "_view_count": null,
       "_view_module": "@jupyter-widgets/base",
       "_view_module_version": "1.2.0",
       "_view_name": "LayoutView",
       "align_content": null,
       "align_items": null,
       "align_self": null,
       "border": null,
       "bottom": null,
       "display": null,
       "flex": null,
       "flex_flow": null,
       "grid_area": null,
       "grid_auto_columns": null,
       "grid_auto_flow": null,
       "grid_auto_rows": null,
       "grid_column": null,
       "grid_gap": null,
       "grid_row": null,
       "grid_template_areas": null,
       "grid_template_columns": null,
       "grid_template_rows": null,
       "height": null,
       "justify_content": null,
       "justify_items": null,
       "left": null,
       "margin": null,
       "max_height": null,
       "max_width": null,
       "min_height": null,
       "min_width": null,
       "object_fit": null,
       "object_position": null,
       "order": null,
       "overflow": null,
       "overflow_x": null,
       "overflow_y": null,
       "padding": null,
       "right": null,
       "top": null,
       "visibility": null,
       "width": null
      }
     },
     "6f3b30c717ca4ad8b735a8515ad74b40": {
      "model_module": "@jupyter-widgets/base",
      "model_module_version": "1.2.0",
      "model_name": "LayoutModel",
      "state": {
       "_model_module": "@jupyter-widgets/base",
       "_model_module_version": "1.2.0",
       "_model_name": "LayoutModel",
       "_view_count": null,
       "_view_module": "@jupyter-widgets/base",
       "_view_module_version": "1.2.0",
       "_view_name": "LayoutView",
       "align_content": null,
       "align_items": null,
       "align_self": null,
       "border": null,
       "bottom": null,
       "display": null,
       "flex": null,
       "flex_flow": null,
       "grid_area": null,
       "grid_auto_columns": null,
       "grid_auto_flow": null,
       "grid_auto_rows": null,
       "grid_column": null,
       "grid_gap": null,
       "grid_row": null,
       "grid_template_areas": null,
       "grid_template_columns": null,
       "grid_template_rows": null,
       "height": null,
       "justify_content": null,
       "justify_items": null,
       "left": null,
       "margin": null,
       "max_height": null,
       "max_width": null,
       "min_height": null,
       "min_width": null,
       "object_fit": null,
       "object_position": null,
       "order": null,
       "overflow": null,
       "overflow_x": null,
       "overflow_y": null,
       "padding": null,
       "right": null,
       "top": null,
       "visibility": null,
       "width": null
      }
     },
     "73b07e7944844ca097187bad184df84a": {
      "model_module": "@jupyter-widgets/controls",
      "model_module_version": "1.5.0",
      "model_name": "HBoxModel",
      "state": {
       "_dom_classes": [],
       "_model_module": "@jupyter-widgets/controls",
       "_model_module_version": "1.5.0",
       "_model_name": "HBoxModel",
       "_view_count": null,
       "_view_module": "@jupyter-widgets/controls",
       "_view_module_version": "1.5.0",
       "_view_name": "HBoxView",
       "box_style": "",
       "children": [
        "IPY_MODEL_38e3156f76d1400ba5e19c1bcd2c40ed",
        "IPY_MODEL_53436ac6f4674d12b1a9050a47e86380",
        "IPY_MODEL_089a37058db146c6b37eab7f4654ddf3"
       ],
       "layout": "IPY_MODEL_4fa9230e822441b19b3d0a20a8314cba"
      }
     },
     "764d56112a9f4bc1bd71370f6c154835": {
      "model_module": "@jupyter-widgets/controls",
      "model_module_version": "1.5.0",
      "model_name": "HTMLModel",
      "state": {
       "_dom_classes": [],
       "_model_module": "@jupyter-widgets/controls",
       "_model_module_version": "1.5.0",
       "_model_name": "HTMLModel",
       "_view_count": null,
       "_view_module": "@jupyter-widgets/controls",
       "_view_module_version": "1.5.0",
       "_view_name": "HTMLView",
       "description": "",
       "description_tooltip": null,
       "layout": "IPY_MODEL_8222bda614d6423888320d17bc81984b",
       "placeholder": "​",
       "style": "IPY_MODEL_b8d866435dc74a238a8efc0f583b325f",
       "value": " 28709/28709 [01:32&lt;00:00, 318.16it/s]"
      }
     },
     "8222bda614d6423888320d17bc81984b": {
      "model_module": "@jupyter-widgets/base",
      "model_module_version": "1.2.0",
      "model_name": "LayoutModel",
      "state": {
       "_model_module": "@jupyter-widgets/base",
       "_model_module_version": "1.2.0",
       "_model_name": "LayoutModel",
       "_view_count": null,
       "_view_module": "@jupyter-widgets/base",
       "_view_module_version": "1.2.0",
       "_view_name": "LayoutView",
       "align_content": null,
       "align_items": null,
       "align_self": null,
       "border": null,
       "bottom": null,
       "display": null,
       "flex": null,
       "flex_flow": null,
       "grid_area": null,
       "grid_auto_columns": null,
       "grid_auto_flow": null,
       "grid_auto_rows": null,
       "grid_column": null,
       "grid_gap": null,
       "grid_row": null,
       "grid_template_areas": null,
       "grid_template_columns": null,
       "grid_template_rows": null,
       "height": null,
       "justify_content": null,
       "justify_items": null,
       "left": null,
       "margin": null,
       "max_height": null,
       "max_width": null,
       "min_height": null,
       "min_width": null,
       "object_fit": null,
       "object_position": null,
       "order": null,
       "overflow": null,
       "overflow_x": null,
       "overflow_y": null,
       "padding": null,
       "right": null,
       "top": null,
       "visibility": null,
       "width": null
      }
     },
     "a065c6164c324364bace5ac61a177a83": {
      "model_module": "@jupyter-widgets/base",
      "model_module_version": "1.2.0",
      "model_name": "LayoutModel",
      "state": {
       "_model_module": "@jupyter-widgets/base",
       "_model_module_version": "1.2.0",
       "_model_name": "LayoutModel",
       "_view_count": null,
       "_view_module": "@jupyter-widgets/base",
       "_view_module_version": "1.2.0",
       "_view_name": "LayoutView",
       "align_content": null,
       "align_items": null,
       "align_self": null,
       "border": null,
       "bottom": null,
       "display": null,
       "flex": null,
       "flex_flow": null,
       "grid_area": null,
       "grid_auto_columns": null,
       "grid_auto_flow": null,
       "grid_auto_rows": null,
       "grid_column": null,
       "grid_gap": null,
       "grid_row": null,
       "grid_template_areas": null,
       "grid_template_columns": null,
       "grid_template_rows": null,
       "height": null,
       "justify_content": null,
       "justify_items": null,
       "left": null,
       "margin": null,
       "max_height": null,
       "max_width": null,
       "min_height": null,
       "min_width": null,
       "object_fit": null,
       "object_position": null,
       "order": null,
       "overflow": null,
       "overflow_x": null,
       "overflow_y": null,
       "padding": null,
       "right": null,
       "top": null,
       "visibility": null,
       "width": null
      }
     },
     "a1e851cf96c944eab4aba2291c5fc085": {
      "model_module": "@jupyter-widgets/base",
      "model_module_version": "1.2.0",
      "model_name": "LayoutModel",
      "state": {
       "_model_module": "@jupyter-widgets/base",
       "_model_module_version": "1.2.0",
       "_model_name": "LayoutModel",
       "_view_count": null,
       "_view_module": "@jupyter-widgets/base",
       "_view_module_version": "1.2.0",
       "_view_name": "LayoutView",
       "align_content": null,
       "align_items": null,
       "align_self": null,
       "border": null,
       "bottom": null,
       "display": null,
       "flex": null,
       "flex_flow": null,
       "grid_area": null,
       "grid_auto_columns": null,
       "grid_auto_flow": null,
       "grid_auto_rows": null,
       "grid_column": null,
       "grid_gap": null,
       "grid_row": null,
       "grid_template_areas": null,
       "grid_template_columns": null,
       "grid_template_rows": null,
       "height": null,
       "justify_content": null,
       "justify_items": null,
       "left": null,
       "margin": null,
       "max_height": null,
       "max_width": null,
       "min_height": null,
       "min_width": null,
       "object_fit": null,
       "object_position": null,
       "order": null,
       "overflow": null,
       "overflow_x": null,
       "overflow_y": null,
       "padding": null,
       "right": null,
       "top": null,
       "visibility": null,
       "width": null
      }
     },
     "a50d9662edf7422dacc1b82040bb93ef": {
      "model_module": "@jupyter-widgets/controls",
      "model_module_version": "1.5.0",
      "model_name": "ProgressStyleModel",
      "state": {
       "_model_module": "@jupyter-widgets/controls",
       "_model_module_version": "1.5.0",
       "_model_name": "ProgressStyleModel",
       "_view_count": null,
       "_view_module": "@jupyter-widgets/base",
       "_view_module_version": "1.2.0",
       "_view_name": "StyleView",
       "bar_color": null,
       "description_width": ""
      }
     },
     "b8d866435dc74a238a8efc0f583b325f": {
      "model_module": "@jupyter-widgets/controls",
      "model_module_version": "1.5.0",
      "model_name": "DescriptionStyleModel",
      "state": {
       "_model_module": "@jupyter-widgets/controls",
       "_model_module_version": "1.5.0",
       "_model_name": "DescriptionStyleModel",
       "_view_count": null,
       "_view_module": "@jupyter-widgets/base",
       "_view_module_version": "1.2.0",
       "_view_name": "StyleView",
       "description_width": ""
      }
     },
     "b9f93b6c1de54239a1c175d11f69e73e": {
      "model_module": "@jupyter-widgets/base",
      "model_module_version": "1.2.0",
      "model_name": "LayoutModel",
      "state": {
       "_model_module": "@jupyter-widgets/base",
       "_model_module_version": "1.2.0",
       "_model_name": "LayoutModel",
       "_view_count": null,
       "_view_module": "@jupyter-widgets/base",
       "_view_module_version": "1.2.0",
       "_view_name": "LayoutView",
       "align_content": null,
       "align_items": null,
       "align_self": null,
       "border": null,
       "bottom": null,
       "display": null,
       "flex": null,
       "flex_flow": null,
       "grid_area": null,
       "grid_auto_columns": null,
       "grid_auto_flow": null,
       "grid_auto_rows": null,
       "grid_column": null,
       "grid_gap": null,
       "grid_row": null,
       "grid_template_areas": null,
       "grid_template_columns": null,
       "grid_template_rows": null,
       "height": null,
       "justify_content": null,
       "justify_items": null,
       "left": null,
       "margin": null,
       "max_height": null,
       "max_width": null,
       "min_height": null,
       "min_width": null,
       "object_fit": null,
       "object_position": null,
       "order": null,
       "overflow": null,
       "overflow_x": null,
       "overflow_y": null,
       "padding": null,
       "right": null,
       "top": null,
       "visibility": null,
       "width": null
      }
     },
     "bd5cde1f532e45cd8bc6999e8b466fd8": {
      "model_module": "@jupyter-widgets/controls",
      "model_module_version": "1.5.0",
      "model_name": "FloatProgressModel",
      "state": {
       "_dom_classes": [],
       "_model_module": "@jupyter-widgets/controls",
       "_model_module_version": "1.5.0",
       "_model_name": "FloatProgressModel",
       "_view_count": null,
       "_view_module": "@jupyter-widgets/controls",
       "_view_module_version": "1.5.0",
       "_view_name": "ProgressView",
       "bar_style": "success",
       "description": "",
       "description_tooltip": null,
       "layout": "IPY_MODEL_a065c6164c324364bace5ac61a177a83",
       "max": 28709.0,
       "min": 0.0,
       "orientation": "horizontal",
       "style": "IPY_MODEL_a50d9662edf7422dacc1b82040bb93ef",
       "value": 28709.0
      }
     },
     "c459a848fecb4866b1f168b59c2e512d": {
      "model_module": "@jupyter-widgets/controls",
      "model_module_version": "1.5.0",
      "model_name": "ProgressStyleModel",
      "state": {
       "_model_module": "@jupyter-widgets/controls",
       "_model_module_version": "1.5.0",
       "_model_name": "ProgressStyleModel",
       "_view_count": null,
       "_view_module": "@jupyter-widgets/base",
       "_view_module_version": "1.2.0",
       "_view_name": "StyleView",
       "bar_color": null,
       "description_width": ""
      }
     },
     "ca2e0150656e4d70abced59a5af3dcfd": {
      "model_module": "@jupyter-widgets/controls",
      "model_module_version": "1.5.0",
      "model_name": "HTMLModel",
      "state": {
       "_dom_classes": [],
       "_model_module": "@jupyter-widgets/controls",
       "_model_module_version": "1.5.0",
       "_model_name": "HTMLModel",
       "_view_count": null,
       "_view_module": "@jupyter-widgets/controls",
       "_view_module_version": "1.5.0",
       "_view_name": "HTMLView",
       "description": "",
       "description_tooltip": null,
       "layout": "IPY_MODEL_56c03a3661bd4c46a203dac805a0eecc",
       "placeholder": "​",
       "style": "IPY_MODEL_d8f2317feba245468aed3dc7885227a6",
       "value": "100%"
      }
     },
     "cacc95a32c1c45e8aadc274197f9da0a": {
      "model_module": "@jupyter-widgets/controls",
      "model_module_version": "1.5.0",
      "model_name": "DescriptionStyleModel",
      "state": {
       "_model_module": "@jupyter-widgets/controls",
       "_model_module_version": "1.5.0",
       "_model_name": "DescriptionStyleModel",
       "_view_count": null,
       "_view_module": "@jupyter-widgets/base",
       "_view_module_version": "1.2.0",
       "_view_name": "StyleView",
       "description_width": ""
      }
     },
     "d8f2317feba245468aed3dc7885227a6": {
      "model_module": "@jupyter-widgets/controls",
      "model_module_version": "1.5.0",
      "model_name": "DescriptionStyleModel",
      "state": {
       "_model_module": "@jupyter-widgets/controls",
       "_model_module_version": "1.5.0",
       "_model_name": "DescriptionStyleModel",
       "_view_count": null,
       "_view_module": "@jupyter-widgets/base",
       "_view_module_version": "1.2.0",
       "_view_name": "StyleView",
       "description_width": ""
      }
     }
    },
    "version_major": 2,
    "version_minor": 0
   }
  }
 },
 "nbformat": 4,
 "nbformat_minor": 5
}
