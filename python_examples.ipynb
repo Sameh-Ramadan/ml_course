{
 "cells": [
  {
   "cell_type": "code",
   "execution_count": 1,
   "id": "b6a38d9e-162f-42ff-bf34-7f39b3495e1a",
   "metadata": {
    "tags": []
   },
   "outputs": [
    {
     "data": {
      "text/plain": [
       "3"
      ]
     },
     "execution_count": 1,
     "metadata": {},
     "output_type": "execute_result"
    }
   ],
   "source": [
    "1 + 2"
   ]
  },
  {
   "cell_type": "code",
   "execution_count": 6,
   "id": "0888d00e-c3c5-42bf-a5c4-b35ba9a4d974",
   "metadata": {
    "tags": []
   },
   "outputs": [],
   "source": [
    "x = \"Hello World\"\n"
   ]
  },
  {
   "cell_type": "code",
   "execution_count": null,
   "id": "ca382eab-f4a7-4071-a70a-8bb9e9267a0c",
   "metadata": {},
   "outputs": [],
   "source": []
  },
  {
   "cell_type": "code",
   "execution_count": 7,
   "id": "f70d64a4-81b0-486d-a1d0-dfd2a58e2685",
   "metadata": {
    "tags": []
   },
   "outputs": [
    {
     "data": {
      "text/plain": [
       "11"
      ]
     },
     "execution_count": 7,
     "metadata": {},
     "output_type": "execute_result"
    }
   ],
   "source": [
    "len(x)\n"
   ]
  },
  {
   "cell_type": "code",
   "execution_count": 8,
   "id": "42816346-d697-4796-8f53-aacd913b4d76",
   "metadata": {
    "tags": []
   },
   "outputs": [
    {
     "data": {
      "text/plain": [
       "'H'"
      ]
     },
     "execution_count": 8,
     "metadata": {},
     "output_type": "execute_result"
    }
   ],
   "source": [
    "x[0]"
   ]
  },
  {
   "cell_type": "code",
   "execution_count": 9,
   "id": "7844e86b-78d9-44c2-a61d-fdc150e99932",
   "metadata": {
    "tags": []
   },
   "outputs": [
    {
     "data": {
      "text/plain": [
       "'Hello World'"
      ]
     },
     "execution_count": 9,
     "metadata": {},
     "output_type": "execute_result"
    }
   ],
   "source": [
    "x[:]"
   ]
  },
  {
   "cell_type": "code",
   "execution_count": 165,
   "id": "526be56e-c0ba-4c33-856c-f8b0021a08c5",
   "metadata": {
    "tags": []
   },
   "outputs": [
    {
     "data": {
      "text/plain": [
       "'hemaS si eman yM'"
      ]
     },
     "execution_count": 165,
     "metadata": {},
     "output_type": "execute_result"
    }
   ],
   "source": [
    "b = \"My name is Sameh\"\n",
    "b[::-1]"
   ]
  },
  {
   "cell_type": "code",
   "execution_count": 164,
   "id": "619d94d1-f18b-4b70-a980-72b6a0b38539",
   "metadata": {
    "tags": []
   },
   "outputs": [
    {
     "data": {
      "text/plain": [
       "'Hello test'"
      ]
     },
     "execution_count": 164,
     "metadata": {},
     "output_type": "execute_result"
    }
   ],
   "source": [
    "x = \"Hello World\"\n",
    "y = x.replace(\"World\", \"test\")\n",
    "y"
   ]
  },
  {
   "cell_type": "code",
   "execution_count": 5,
   "id": "3ea84679-b29e-4662-b1cc-1cc70352f6aa",
   "metadata": {
    "tags": []
   },
   "outputs": [
    {
     "data": {
      "text/plain": [
       "[1, 2, 3]"
      ]
     },
     "execution_count": 5,
     "metadata": {},
     "output_type": "execute_result"
    }
   ],
   "source": [
    "x = [ 1,2,3]\n",
    "x"
   ]
  },
  {
   "cell_type": "code",
   "execution_count": 6,
   "id": "0c6cb122-3532-4914-9d9c-cc647cd56679",
   "metadata": {
    "tags": []
   },
   "outputs": [],
   "source": [
    "x.clear()"
   ]
  },
  {
   "cell_type": "code",
   "execution_count": 17,
   "id": "0f3d14cd-d72d-435b-8d1d-4e5734124c62",
   "metadata": {
    "tags": []
   },
   "outputs": [
    {
     "data": {
      "text/plain": [
       "[]"
      ]
     },
     "execution_count": 17,
     "metadata": {},
     "output_type": "execute_result"
    }
   ],
   "source": [
    "x"
   ]
  },
  {
   "cell_type": "code",
   "execution_count": 18,
   "id": "cf6168a6-ad8b-46c8-8629-81676307803c",
   "metadata": {
    "tags": []
   },
   "outputs": [
    {
     "data": {
      "text/plain": [
       "[1, 2, 3]"
      ]
     },
     "execution_count": 18,
     "metadata": {},
     "output_type": "execute_result"
    }
   ],
   "source": [
    " o = [1 , 2 , 3]\n",
    "o\n"
   ]
  },
  {
   "cell_type": "code",
   "execution_count": 19,
   "id": "549657f9-30c0-4d41-a192-459abd311137",
   "metadata": {
    "tags": []
   },
   "outputs": [
    {
     "data": {
      "text/plain": [
       "2"
      ]
     },
     "execution_count": 19,
     "metadata": {},
     "output_type": "execute_result"
    }
   ],
   "source": [
    "o.pop(1)"
   ]
  },
  {
   "cell_type": "code",
   "execution_count": 20,
   "id": "24a45f0b-9f53-4d6e-ab6a-e14f4553f907",
   "metadata": {
    "tags": []
   },
   "outputs": [
    {
     "data": {
      "text/plain": [
       "[1, 3]"
      ]
     },
     "execution_count": 20,
     "metadata": {},
     "output_type": "execute_result"
    }
   ],
   "source": [
    "o"
   ]
  },
  {
   "cell_type": "code",
   "execution_count": 21,
   "id": "2a5513e7-266d-4d1e-89d1-4826b432efb9",
   "metadata": {
    "tags": []
   },
   "outputs": [],
   "source": [
    "o.remove(1)"
   ]
  },
  {
   "cell_type": "code",
   "execution_count": 22,
   "id": "20dca144-6381-4420-9611-9ec44ee6bd1a",
   "metadata": {
    "tags": []
   },
   "outputs": [
    {
     "data": {
      "text/plain": [
       "[3]"
      ]
     },
     "execution_count": 22,
     "metadata": {},
     "output_type": "execute_result"
    }
   ],
   "source": [
    "o"
   ]
  },
  {
   "cell_type": "code",
   "execution_count": 30,
   "id": "64da4b2b-699c-48b6-a42c-ea5e16d37324",
   "metadata": {
    "tags": []
   },
   "outputs": [
    {
     "name": "stdout",
     "output_type": "stream",
     "text": [
      "odd\n"
     ]
    }
   ],
   "source": [
    "if (6 % 5 == 0) :\n",
    "    print(\"even\")\n",
    "else :\n",
    "    print(\"odd\")\n",
    "    \n",
    "\n",
    "    "
   ]
  },
  {
   "cell_type": "code",
   "execution_count": 8,
   "id": "839953a9-7f8c-4ba8-bcef-5e037bee8196",
   "metadata": {
    "tags": []
   },
   "outputs": [
    {
     "name": "stdin",
     "output_type": "stream",
     "text": [
      "Enter First String xdd\n"
     ]
    },
    {
     "data": {
      "text/plain": [
       "'xdd'"
      ]
     },
     "execution_count": 8,
     "metadata": {},
     "output_type": "execute_result"
    }
   ],
   "source": [
    "x = input (\"Enter First String\")\n",
    "x\n",
    "    "
   ]
  },
  {
   "cell_type": "code",
   "execution_count": 9,
   "id": "32b5714f-0d79-4008-9d89-f5643daa1743",
   "metadata": {},
   "outputs": [
    {
     "data": {
      "text/plain": [
       "'xdd'"
      ]
     },
     "execution_count": 9,
     "metadata": {},
     "output_type": "execute_result"
    }
   ],
   "source": [
    "x"
   ]
  },
  {
   "cell_type": "code",
   "execution_count": 12,
   "id": "bd75fa24-e6ae-400a-9eeb-05da36071d79",
   "metadata": {
    "tags": []
   },
   "outputs": [
    {
     "name": "stdin",
     "output_type": "stream",
     "text": [
      "Enter Second String jjj\n"
     ]
    },
    {
     "data": {
      "text/plain": [
       "'jjj'"
      ]
     },
     "execution_count": 12,
     "metadata": {},
     "output_type": "execute_result"
    }
   ],
   "source": [
    "y = input (\"Enter Second String\")\n",
    "y"
   ]
  },
  {
   "cell_type": "code",
   "execution_count": 13,
   "id": "278cacda-1284-4eac-b1cb-498928edfbb4",
   "metadata": {
    "tags": []
   },
   "outputs": [
    {
     "data": {
      "text/plain": [
       "'xdd'"
      ]
     },
     "execution_count": 13,
     "metadata": {},
     "output_type": "execute_result"
    }
   ],
   "source": [
    "x"
   ]
  },
  {
   "cell_type": "code",
   "execution_count": 14,
   "id": "cd8566e2-d3a0-444b-8884-24a18365f063",
   "metadata": {
    "tags": []
   },
   "outputs": [
    {
     "data": {
      "text/plain": [
       "'ddx'"
      ]
     },
     "execution_count": 14,
     "metadata": {},
     "output_type": "execute_result"
    }
   ],
   "source": [
    "z = x[::-1]\n",
    "z"
   ]
  },
  {
   "cell_type": "code",
   "execution_count": 21,
   "id": "989c00a9-0402-478e-8cc8-f4a478ec7a7d",
   "metadata": {
    "tags": []
   },
   "outputs": [
    {
     "name": "stdin",
     "output_type": "stream",
     "text": [
      "Enter First String ASD\n"
     ]
    },
    {
     "name": "stdout",
     "output_type": "stream",
     "text": [
      "ASD\n"
     ]
    },
    {
     "name": "stdin",
     "output_type": "stream",
     "text": [
      "Enter Second String DSA\n"
     ]
    },
    {
     "name": "stdout",
     "output_type": "stream",
     "text": [
      "DSA\n",
      "DSA\n",
      "True\n"
     ]
    }
   ],
   "source": [
    "x = input (\"Enter First String\")\n",
    "print(x)\n",
    "\n",
    "y = input (\"Enter Second String\")\n",
    "print(y)\n",
    "\n",
    "z = x[::-1]\n",
    "print(z)\n",
    "\n",
    "if z == y :\n",
    "    print(\"True\")\n",
    "else : \n",
    "    print(\"False\")"
   ]
  },
  {
   "cell_type": "code",
   "execution_count": 22,
   "id": "122ac7da-505a-4e3c-a854-11a9fb2f3c11",
   "metadata": {
    "tags": []
   },
   "outputs": [
    {
     "name": "stdin",
     "output_type": "stream",
     "text": [
      "Enter First Number 13\n"
     ]
    },
    {
     "name": "stdout",
     "output_type": "stream",
     "text": [
      "13\n"
     ]
    },
    {
     "name": "stdin",
     "output_type": "stream",
     "text": [
      "Enter Second Number 12\n"
     ]
    },
    {
     "name": "stdout",
     "output_type": "stream",
     "text": [
      "12\n"
     ]
    },
    {
     "name": "stdin",
     "output_type": "stream",
     "text": [
      "Enter operation +\n"
     ]
    },
    {
     "name": "stdout",
     "output_type": "stream",
     "text": [
      "+\n"
     ]
    }
   ],
   "source": [
    "\n",
    "\n",
    "\n"
   ]
  },
  {
   "cell_type": "code",
   "execution_count": 72,
   "id": "bcea3d81-0b6a-40b2-9687-c268364a7eb6",
   "metadata": {
    "tags": []
   },
   "outputs": [],
   "source": [
    "def calculate (first_num , second_num , operation) :\n",
    "    \n",
    "    result = 0\n",
    "    \n",
    "    if (operation == \"add\") :\n",
    "        result = first_num + second_num\n",
    "    elif (operation == \"subtract\") :\n",
    "         result = first_num - second_num\n",
    "    elif (operation == \"multiply\") :\n",
    "         result = first_num * second_num\n",
    "    elif (operation == \"devide\") :\n",
    "         result = first_num / second_num\n",
    "        \n",
    "    print (\"result = \", result)"
   ]
  },
  {
   "cell_type": "code",
   "execution_count": 73,
   "id": "24010767-e9e6-4b2a-ace9-a1bf67747d68",
   "metadata": {
    "tags": []
   },
   "outputs": [
    {
     "name": "stdout",
     "output_type": "stream",
     "text": [
      "result =  40\n"
     ]
    }
   ],
   "source": [
    "calculate (10 , 30 , \"add\")"
   ]
  },
  {
   "cell_type": "code",
   "execution_count": 74,
   "id": "1927b72a-415d-4275-9c68-a919921eca7f",
   "metadata": {
    "tags": []
   },
   "outputs": [
    {
     "name": "stdout",
     "output_type": "stream",
     "text": [
      "result =  10\n"
     ]
    }
   ],
   "source": [
    "calculate (20 , 10 , \"subtract\")"
   ]
  },
  {
   "cell_type": "code",
   "execution_count": 75,
   "id": "1cf9053b-912a-4080-9db3-1e8129059613",
   "metadata": {
    "tags": []
   },
   "outputs": [
    {
     "name": "stdout",
     "output_type": "stream",
     "text": [
      "result =  300\n"
     ]
    }
   ],
   "source": [
    "calculate (30 , 10 , \"multiply\")"
   ]
  },
  {
   "cell_type": "code",
   "execution_count": 78,
   "id": "8a135212-eca1-4e07-b5ac-406196b14053",
   "metadata": {
    "tags": []
   },
   "outputs": [
    {
     "name": "stdout",
     "output_type": "stream",
     "text": [
      "result =  2.0\n"
     ]
    }
   ],
   "source": [
    "calculate (200 , 100 , \"devide\")"
   ]
  },
  {
   "cell_type": "code",
   "execution_count": 128,
   "id": "74239010-b907-4382-9cd5-47b7abd2070a",
   "metadata": {
    "tags": []
   },
   "outputs": [],
   "source": [
    "def total (*values) :\n",
    "    sum = 0\n",
    "    limit = len(values)\n",
    "    for i in range(limit) :\n",
    "        sum = sum + values[i]\n",
    "    \n",
    "    print(sum)     "
   ]
  },
  {
   "cell_type": "code",
   "execution_count": 129,
   "id": "5dc99425-8307-4e2c-a60c-20791ef9d253",
   "metadata": {
    "tags": []
   },
   "outputs": [
    {
     "name": "stdout",
     "output_type": "stream",
     "text": [
      "8\n"
     ]
    }
   ],
   "source": [
    "total(1,5,2)"
   ]
  },
  {
   "cell_type": "code",
   "execution_count": 155,
   "id": "a2acf40c-cea3-4f2d-a343-ac89c1dc8d3d",
   "metadata": {
    "tags": []
   },
   "outputs": [],
   "source": [
    "def greatest(*values) :\n",
    "    sum = 0\n",
    "    gretestValue = values[0]\n",
    "    limit = len(values)\n",
    "    for i in range(limit) :\n",
    "        #if values[i] > gretestValue :\n",
    "        if len(values[i]) > len(gretestValue) :\n",
    "            gretestValue = values[i] \n",
    "    \n",
    "    print(gretestValue) "
   ]
  },
  {
   "cell_type": "code",
   "execution_count": 157,
   "id": "c459aa4a-47f3-406e-bb5d-960302c45072",
   "metadata": {
    "tags": []
   },
   "outputs": [
    {
     "name": "stdout",
     "output_type": "stream",
     "text": [
      "1234567890\n"
     ]
    }
   ],
   "source": [
    "greatest(\"Tes123t\", \"Hello\" , \"1234567890\")\n"
   ]
  },
  {
   "cell_type": "code",
   "execution_count": 161,
   "id": "ef34271f-c2af-4171-b267-c9fd00b63e46",
   "metadata": {
    "tags": []
   },
   "outputs": [],
   "source": [
    "def averageValues(*values) :\n",
    "    averageValue = 0\n",
    "    sum = 0\n",
    "    limit = len(values)\n",
    " \n",
    "    for i in range(limit) :\n",
    "        sum = sum + values[i]\n",
    "    \n",
    "    averageValue = sum / limit\n",
    "    print(averageValue) "
   ]
  },
  {
   "cell_type": "code",
   "execution_count": 162,
   "id": "a859a6ff-80bc-4f12-8852-1088b568719d",
   "metadata": {
    "tags": []
   },
   "outputs": [
    {
     "name": "stdout",
     "output_type": "stream",
     "text": [
      "3.0\n"
     ]
    }
   ],
   "source": [
    "averageValues(1,2,6)"
   ]
  },
  {
   "cell_type": "code",
   "execution_count": 166,
   "id": "c300a627-47f8-458f-a842-e869fbeb6fd6",
   "metadata": {
    "tags": []
   },
   "outputs": [],
   "source": [
    "import lib"
   ]
  },
  {
   "cell_type": "code",
   "execution_count": 167,
   "id": "ee448694-5ef7-4fb6-91e7-7e274c44fcfe",
   "metadata": {
    "tags": []
   },
   "outputs": [
    {
     "name": "stdout",
     "output_type": "stream",
     "text": [
      "3\n"
     ]
    }
   ],
   "source": [
    "lib.get_num(2)"
   ]
  },
  {
   "cell_type": "code",
   "execution_count": 200,
   "id": "d3d25a61-7f7e-4544-97b9-e383210471f4",
   "metadata": {
    "tags": []
   },
   "outputs": [
    {
     "name": "stdout",
     "output_type": "stream",
     "text": [
      "Hi my name is Sameh\n"
     ]
    }
   ],
   "source": [
    "f = open(\"Test.txt\", \"r\")\n",
    "print(f.read())\n",
    "f.close()"
   ]
  },
  {
   "cell_type": "code",
   "execution_count": 201,
   "id": "a8e4d046-9c8e-46da-b931-25cafc615967",
   "metadata": {
    "tags": []
   },
   "outputs": [
    {
     "name": "stdout",
     "output_type": "stream",
     "text": [
      "Hi my name is Sameh\n"
     ]
    },
    {
     "data": {
      "text/plain": [
       "['Hi my name is Sameh']"
      ]
     },
     "execution_count": 201,
     "metadata": {},
     "output_type": "execute_result"
    }
   ],
   "source": [
    "file = open(\"Test.txt\", \"r\")\n",
    "Lines = file.readlines()\n",
    "for line in Lines:\n",
    "    print(line)\n",
    "    \n",
    "Lines"
   ]
  },
  {
   "cell_type": "code",
   "execution_count": 182,
   "id": "5c887a4a-29f2-4562-9385-91c5e9733fca",
   "metadata": {
    "tags": []
   },
   "outputs": [],
   "source": [
    "file = open(\"Test.txt\", \"w\")\n",
    "file.write(\"Hi2\")\n",
    "file.close()"
   ]
  },
  {
   "cell_type": "code",
   "execution_count": 207,
   "id": "2425bd17-2fbe-4ac1-93f0-0da76d725949",
   "metadata": {
    "tags": []
   },
   "outputs": [
    {
     "name": "stdin",
     "output_type": "stream",
     "text": [
      "Enter first word Hello \n",
      "Enter character J\n"
     ]
    },
    {
     "name": "stdout",
     "output_type": "stream",
     "text": [
      "J\n",
      "0\n"
     ]
    }
   ],
   "source": [
    "word = input(\"Enter first word\")\n",
    "#print(word)\n",
    "character = input(\"Enter character\")\n",
    "print(character)\n",
    "t = word.count(character)\n",
    "print(t)       "
   ]
  },
  {
   "cell_type": "code",
   "execution_count": 218,
   "id": "8a8705aa-deaf-47ec-ac84-b6eac6d4da7e",
   "metadata": {
    "tags": []
   },
   "outputs": [
    {
     "name": "stdout",
     "output_type": "stream",
     "text": [
      "['Hi', 'my', 'name', 'is', 'Sameh']\n",
      "['Hi', 'my', 'name', 'is', 'Sameh', '2']\n",
      "['Hi', 'my', 'name', 'is', 'Sameh', '3']\n"
     ]
    }
   ],
   "source": [
    "file = open(\"Test.txt\", \"r\")\n",
    "Lines = file.readlines()\n",
    "for line in Lines:\n",
    "    #print(line)\n",
    "    tokens = line.split()\n",
    "    print(tokens)\n"
   ]
  },
  {
   "cell_type": "code",
   "execution_count": 250,
   "id": "1704e0b0-0391-48e7-931d-30ba689e3111",
   "metadata": {
    "tags": []
   },
   "outputs": [],
   "source": [
    "class car:\n",
    "    num_cars = 0\n",
    "    def __init__(self,name,age):\n",
    "        num_cars += 1\n",
    "    "
   ]
  },
  {
   "cell_type": "code",
   "execution_count": 251,
   "id": "6de17d07-b064-4166-8d71-962697d61fd3",
   "metadata": {
    "tags": []
   },
   "outputs": [],
   "source": [
    "class student:\n",
    "    num_students = 0\n",
    "    def __init_self(name,age,courses):\n",
    "        num_students += 1\n",
    "        self.name = name\n",
    "        self.age = age\n",
    "        self.cources = courses"
   ]
  },
  {
   "cell_type": "code",
   "execution_count": 273,
   "id": "ec4ae0c3-6483-4b86-9855-76cae279deb1",
   "metadata": {
    "tags": []
   },
   "outputs": [],
   "source": [
    "class cat:\n",
    "    num_cats = 0\n",
    "    def __init__(self,name,age):\n",
    "        cat.num_cats += 1\n",
    "        self.name = name\n",
    "        self.age = age \n",
    "    def show(self,color):\n",
    "        self.color = color"
   ]
  },
  {
   "cell_type": "code",
   "execution_count": 277,
   "id": "9cb55ac1-beb6-42b8-b03f-2c74d371fd08",
   "metadata": {
    "tags": []
   },
   "outputs": [
    {
     "data": {
      "text/plain": [
       "10"
      ]
     },
     "execution_count": 277,
     "metadata": {},
     "output_type": "execute_result"
    }
   ],
   "source": [
    "cat1 = cat(\"name\", 20)\n",
    "cat2 = cat(\"name\", 20)\n",
    "cat3 = cat(\"name\", 20)\n",
    "cat4 = cat(\"name\", 10)\n",
    "cat.num_cats"
   ]
  },
  {
   "cell_type": "code",
   "execution_count": 275,
   "id": "611b6a7e-64cf-490c-8ea9-46ec5e7271de",
   "metadata": {
    "tags": []
   },
   "outputs": [
    {
     "data": {
      "text/plain": [
       "3"
      ]
     },
     "execution_count": 275,
     "metadata": {},
     "output_type": "execute_result"
    }
   ],
   "source": [
    "cat.num_cats"
   ]
  },
  {
   "cell_type": "code",
   "execution_count": 286,
   "id": "81630fe6-874d-486e-8fea-8af80a3baa7d",
   "metadata": {
    "tags": []
   },
   "outputs": [
    {
     "name": "stdout",
     "output_type": "stream",
     "text": [
      "Hi  My Manger\n",
      "Hi  My Manger 2\n",
      "Number of schools classes  20\n",
      "Hello School\n"
     ]
    }
   ],
   "source": [
    "class school :\n",
    "    number_of_classes = 0\n",
    "    def __init__(self,name,manager):\n",
    "        self.name = name\n",
    "        self.manager = manager\n",
    "        school.number_of_classes += 10\n",
    "        \n",
    "    def greetManager(self):\n",
    "        print(\"Hi \",self.manager)\n",
    "    \n",
    "    @classmethod\n",
    "    def count_classes(cls):\n",
    "        print(\"Number of schools classes \",cls.number_of_classes)\n",
    "    \n",
    "    @staticmethod\n",
    "    def greetSchool():\n",
    "        print(\"Hello School\")\n",
    "\n",
    "school1 = school(\"My School\",\"My Manger\")\n",
    "school1.greetManager()\n",
    "\n",
    "school2 = school(\"My School 2\",\"My Manger 2\")\n",
    "school2.greetManager()\n",
    "\n",
    "school.count_classes()\n",
    "\n",
    "school.greetSchool()\n",
    "\n",
    "\n"
   ]
  },
  {
   "cell_type": "code",
   "execution_count": 336,
   "id": "e98541f2-eb57-4d27-8746-eccb3a93d079",
   "metadata": {},
   "outputs": [
    {
     "name": "stdout",
     "output_type": "stream",
     "text": [
      "Hello  name\n",
      "========================================\n",
      "area  200\n",
      "========================================\n",
      "balance  320\n",
      "balance  290\n",
      "========================================\n",
      "Make:  Kia   - Model:  Proide  - Year:  2020\n",
      "========================================\n",
      "salary:  2200.0\n",
      "========================================\n",
      "area:  78.53981633974483\n",
      "circumference :  31.41592653589793\n",
      "========================================\n",
      "average_grade  5.0\n",
      "========================================\n",
      "Book Found\n"
     ]
    }
   ],
   "source": [
    "class person :\n",
    "    def __init__(self,name):\n",
    "        self.name = name\n",
    "        \n",
    "    def greet(self):\n",
    "        print(\"Hello \",self.name)\n",
    "        \n",
    "p = person(\"name\")\n",
    "p.greet()\n",
    "print(\"========================================\")\n",
    "\n",
    "class rectangle :\n",
    "    def __init__(self,width,height):\n",
    "        self.width = width\n",
    "        self.height = height\n",
    "        \n",
    "    def area(self):\n",
    "        self.area = self.width * self.height\n",
    "        print(\"area \",self.area)\n",
    "\n",
    "r = rectangle(10,20)\n",
    "r.area()\n",
    "\n",
    "print(\"========================================\")\n",
    "\n",
    "class bank_account :\n",
    "    \n",
    "    def __init__(self,balance):\n",
    "        self.balance = balance\n",
    "                \n",
    "    def deposit(self,amount):\n",
    "        self.balance = self.balance + amount\n",
    "        print(\"balance \",self.balance)\n",
    "        \n",
    "    def withdraw(self,amount):\n",
    "        self.balance = self.balance - amount\n",
    "        print(\"balance \",self.balance)\n",
    "\n",
    "ba = bank_account(300)\n",
    "ba.deposit(20)\n",
    "ba.withdraw(30)\n",
    "\n",
    "print(\"========================================\")\n",
    "\n",
    "class car:\n",
    "    \n",
    "    def __init__(self,make,model,year):\n",
    "        self.make = make\n",
    "        self.model = model\n",
    "        self.year = year\n",
    "        \n",
    "    def description(self):\n",
    "        print(\"Make: \",self.make, \"  - Model: \",self.model,\" - Year: \",self.year)\n",
    "\n",
    "car = car(\"Kia\" , \"Proide\" , \"2020\")\n",
    "car.description()\n",
    "\n",
    "print(\"========================================\")\n",
    "\n",
    "class Employee:\n",
    "    \n",
    "    def __init__(self,name,title,salary):\n",
    "        self.name = name\n",
    "        self.title = title\n",
    "        self.salary = salary\n",
    "        \n",
    "    def  raise_salary(self, percentage):\n",
    "        self.salary = self.salary + self.salary * percentage\n",
    "        print(\"salary: \",self.salary)\n",
    "\n",
    "emp = Employee(\"Mido\" , \"Mr\" , 2000)\n",
    "emp.raise_salary(0.1)\n",
    "\n",
    "print(\"========================================\")\n",
    "import math\n",
    "class Circle:\n",
    "    \n",
    "    def __init__(self,radius):\n",
    "        self.radius = radius \n",
    "\n",
    "        \n",
    "    def area(self):\n",
    "        area = math.pi * self.radius * self.radius\n",
    "        print(\"area: \",area)\n",
    "    \n",
    "    def circumference (self):\n",
    "        circumference = 2 * math.pi * self.radius\n",
    "        print(\"circumference : \", circumference)\n",
    "\n",
    "circle = Circle(5)\n",
    "circle.area()\n",
    "circle.circumference()\n",
    "print(\"========================================\")\n",
    "\n",
    "class Student:\n",
    "    \n",
    "    def __init__(self,name,grades):\n",
    "        self.name = name\n",
    "        self.grades = grades\n",
    "        \n",
    "    def average_grade(self):\n",
    "        averageValue = 0\n",
    "        sum = 0\n",
    "        limit = len(self.grades)\n",
    " \n",
    "        for i in range(limit) :\n",
    "            sum = sum + self.grades[i]\n",
    "    \n",
    "        averageValue = sum / limit\n",
    "        print(\"average_grade \", averageValue)\n",
    "\n",
    "grades = [5 ,5 , 5 , 5 ,5]\n",
    "student = Student(\"Ahmed\" , grades)\n",
    "student.average_grade()\n",
    "print(\"========================================\")\n",
    "\n",
    "class Book:\n",
    "    def __init__(self,title):\n",
    "        self.title = title\n",
    "        \n",
    "class Library:\n",
    "    def __init__(self,books):\n",
    "        self.books = books\n",
    "        \n",
    "    def search(self, title):\n",
    "        limit = len(self.books)\n",
    "        for i in range(limit):\n",
    "            if(self.books[i].title == title):\n",
    "                print(\"Book Found\")\n",
    "    \n",
    "\n",
    "books = [ Book(\"java\") , Book(\"c#\") , Book(\"python\")]\n",
    "library = Library(books)\n",
    "library.search(\"java\")\n",
    "\n",
    "\n"
   ]
  },
  {
   "cell_type": "code",
   "execution_count": null,
   "id": "867d5377-ae00-4fce-9798-833ce0e9775e",
   "metadata": {},
   "outputs": [],
   "source": []
  },
  {
   "cell_type": "code",
   "execution_count": 32,
   "id": "0df97d84-066d-478e-8e8b-8478b30d1380",
   "metadata": {},
   "outputs": [
    {
     "name": "stdout",
     "output_type": "stream",
     "text": [
      "[4, 7]\n"
     ]
    }
   ],
   "source": [
    "def add_vectors(v1 , v2) :\n",
    "    sum = 0\n",
    "    z = [1,1]\n",
    "    limit = len(v1)\n",
    "    for i in range(limit) :\n",
    "        x = v1[i]\n",
    "        y = v2[i]\n",
    "        sum = x + y\n",
    "        #print(sum)\n",
    "        z[i] = sum\n",
    "        #print(z)\n",
    "\n",
    "    print(z)\n",
    "        \n",
    "x = [2,6]\n",
    "y = [2,1]\n",
    "add_vectors(x,y)"
   ]
  },
  {
   "cell_type": "code",
   "execution_count": 37,
   "id": "8e1beccb-2e09-4a12-83a9-9146d3c61e2a",
   "metadata": {
    "tags": []
   },
   "outputs": [
    {
     "name": "stdout",
     "output_type": "stream",
     "text": [
      "[2, 4, 6]\n"
     ]
    }
   ],
   "source": [
    "def multiply_vector(slizer , vector ):\n",
    "    result = []\n",
    "    for i in vector:\n",
    "        result.append(slizer*i)\n",
    "    return result\n",
    "\n",
    "print((multiply_vector(2,[1,2,3])))    "
   ]
  },
  {
   "cell_type": "code",
   "execution_count": 77,
   "id": "e27fc5c2-507c-401f-9fdb-d0e5c401726a",
   "metadata": {
    "tags": []
   },
   "outputs": [
    {
     "name": "stdout",
     "output_type": "stream",
     "text": [
      "(3, 3)\n"
     ]
    }
   ],
   "source": [
    "def shape(matrix):\n",
    "    num_rows = len(matrix)\n",
    "    num_columns = len(matrix[0])\n",
    "    return num_rows , num_columns \n",
    "\n",
    "matrix = [[1,2,3],[4,5,6],[7,8,9]]\n",
    "print(shape(matrix))"
   ]
  },
  {
   "cell_type": "code",
   "execution_count": 76,
   "id": "2df767b6-1fa1-400f-88e9-a4ee8c49d05a",
   "metadata": {
    "tags": []
   },
   "outputs": [
    {
     "name": "stdout",
     "output_type": "stream",
     "text": [
      "[[2, 4, 6], [2, 4, 6]]\n"
     ]
    }
   ],
   "source": [
    "def add_2_matrix(matrix1,matrix2):\n",
    "    result = [[0,0,0],\n",
    "         [0,0,0]]\n",
    "    \n",
    "    \n",
    "    for i in range(len(matrix1)):\n",
    "        for j in range(len(matrix1[0])):\n",
    "               result[i][j] = matrix1[i][j] + matrix2[i][j]\n",
    "    return result\n",
    "\n",
    "matrix1 = [[1,2,3],\n",
    "           [1,2,3]]\n",
    "\n",
    "matrix2 = [[1,2,3],\n",
    "           [1,2,3]]\n",
    "\n",
    "print(add_2_matrix(matrix1,matrix2)) \n"
   ]
  },
  {
   "cell_type": "code",
   "execution_count": 83,
   "id": "9cb2c1d2-59d9-4dba-86f2-7a29bbf45356",
   "metadata": {
    "tags": []
   },
   "outputs": [
    {
     "name": "stdout",
     "output_type": "stream",
     "text": [
      "[[1, 4, 9], [1, 4, 9]]\n",
      "===============\n",
      "[[3, 4, 3], [3, 4, 3]]\n",
      "===============\n"
     ]
    }
   ],
   "source": [
    "def multiply_2_matrix(matrix1,matrix2):\n",
    "    result = [[0,0,0],\n",
    "         [0,0,0]]\n",
    "    \n",
    "    \n",
    "    for i in range(len(matrix1)):\n",
    "        for j in range(len(matrix1[0])):\n",
    "               result[i][j] = matrix1[i][j] * matrix2[i][j]\n",
    "    return result\n",
    "\n",
    "matrix1 = [[1,2,3],\n",
    "           [1,2,3]]\n",
    "\n",
    "matrix2 = [[1,2,3],\n",
    "           [1,2,3]]\n",
    "\n",
    "print(multiply_2_matrix(matrix1,matrix2)) \n",
    "\n",
    "matrix3 = [[1,2,3],\n",
    "           [1,2,3]]\n",
    "\n",
    "matrix4 = [[3,2,1],\n",
    "           [3,2,1]]\n",
    "print(\"===============\")\n",
    "print(multiply_2_matrix(matrix3,matrix4)) \n",
    "print(\"===============\")\n"
   ]
  },
  {
   "cell_type": "code",
   "execution_count": 93,
   "id": "021dd326-76f7-4ddf-93e2-371c4f19059f",
   "metadata": {
    "tags": []
   },
   "outputs": [
    {
     "data": {
      "text/plain": [
       "[1.5, 3.5, 5.5]"
      ]
     },
     "execution_count": 93,
     "metadata": {},
     "output_type": "execute_result"
    }
   ],
   "source": [
    "def dot(v , w):\n",
    "    return sum([v_i * w_i for v_i , w_i in zip(v,w)])\n",
    "\n",
    "def matrix_dot_vector(matrix , vector):\n",
    "    result = []\n",
    "    for i in range(len(matrix)):\n",
    "        result.append(dot(matrix[i],vector))\n",
    "    return result\n",
    "\n",
    "matrix = [ [1,2] , \n",
    "           [3,4] , \n",
    "          [5,6] ]\n",
    "\n",
    "vector = [0.5 , \n",
    "          0.5]\n",
    "\n",
    "matrix_dot_vector(matrix , vector)\n",
    "    "
   ]
  },
  {
   "cell_type": "code",
   "execution_count": 95,
   "id": "e21fd3a3-fcca-4f99-8b21-d2c252e19215",
   "metadata": {
    "tags": []
   },
   "outputs": [],
   "source": [
    "def multiply(c , v):\n",
    "    z = float([ c*v_i for v_i in v])\n",
    "    return z\n",
    "\n",
    "def matrix_multiply_value(matrix , value):\n",
    "    result = []\n",
    "    for i in range(len(matrix)):\n",
    "         result.append(multiply(matrix[i],value))\n",
    "    return result\n",
    "\n",
    "matrix3 = [ [1,2] , \n",
    "           [3,4] , \n",
    "          [5,6] ]\n",
    "\n",
    "value = 1\n",
    "\n",
    "# matrix_multiply_value(matrix3 , value)\n",
    "\n",
    "\n",
    "    "
   ]
  },
  {
   "cell_type": "code",
   "execution_count": 107,
   "id": "8f19a808-e0c7-4157-8f17-bd8fb1e80444",
   "metadata": {
    "tags": []
   },
   "outputs": [
    {
     "data": {
      "text/plain": [
       "array([[1, 2, 3],\n",
       "       [4, 5, 6],\n",
       "       [7, 8, 9]])"
      ]
     },
     "execution_count": 107,
     "metadata": {},
     "output_type": "execute_result"
    }
   ],
   "source": [
    "import numpy as np\n",
    "arr = np.array((([1,2,3],[4,5,6],[7,8,9])))  \n",
    "arr"
   ]
  },
  {
   "cell_type": "code",
   "execution_count": 105,
   "id": "ef738855-5025-4080-bbcb-aaad26049720",
   "metadata": {
    "tags": []
   },
   "outputs": [
    {
     "data": {
      "text/plain": [
       "array([[5, 6]])"
      ]
     },
     "execution_count": 105,
     "metadata": {},
     "output_type": "execute_result"
    }
   ],
   "source": [
    "arr[1:2,1:3]"
   ]
  },
  {
   "cell_type": "code",
   "execution_count": 108,
   "id": "4be347b9-a1e9-4b4c-ba61-0c735ab2fa70",
   "metadata": {
    "tags": []
   },
   "outputs": [
    {
     "data": {
      "text/plain": [
       "array([1, 2, 3])"
      ]
     },
     "execution_count": 108,
     "metadata": {},
     "output_type": "execute_result"
    }
   ],
   "source": [
    "import numpy as np\n",
    "arr2 = np.array([1,2,3])  \n",
    "arr2"
   ]
  },
  {
   "cell_type": "code",
   "execution_count": 115,
   "id": "fe6abbc2-89f8-40c5-ad9e-cb3e7d3f0eb5",
   "metadata": {
    "tags": []
   },
   "outputs": [
    {
     "data": {
      "text/plain": [
       "2.0"
      ]
     },
     "execution_count": 115,
     "metadata": {},
     "output_type": "execute_result"
    }
   ],
   "source": [
    "x = arr2.mean()\n",
    "x"
   ]
  },
  {
   "cell_type": "code",
   "execution_count": 120,
   "id": "3fc39f48-c54c-49c9-b926-a64ca40e95ef",
   "metadata": {
    "tags": []
   },
   "outputs": [
    {
     "name": "stdout",
     "output_type": "stream",
     "text": [
      "394.0\n",
      "21704.0\n",
      "147.32277488562318\n"
     ]
    }
   ],
   "source": [
    "import numpy as np\n",
    "my_array = np.array([600,470,170,430,300])\n",
    "mean = my_array.mean()\n",
    "print(mean)\n",
    "variance =  my_array.var()\n",
    "print(variance)\n",
    "standard =  my_array.std()\n",
    "print(standard)"
   ]
  },
  {
   "cell_type": "code",
   "execution_count": null,
   "id": "0f458934-91ff-4237-a4ba-6a65936d2156",
   "metadata": {},
   "outputs": [],
   "source": []
  }
 ],
 "metadata": {
  "kernelspec": {
   "display_name": "Python 3 (ipykernel)",
   "language": "python",
   "name": "python3"
  },
  "language_info": {
   "codemirror_mode": {
    "name": "ipython",
    "version": 3
   },
   "file_extension": ".py",
   "mimetype": "text/x-python",
   "name": "python",
   "nbconvert_exporter": "python",
   "pygments_lexer": "ipython3",
   "version": "3.11.4"
  }
 },
 "nbformat": 4,
 "nbformat_minor": 5
}
