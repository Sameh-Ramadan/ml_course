{
  "nbformat": 4,
  "nbformat_minor": 0,
  "metadata": {
    "colab": {
      "provenance": []
    },
    "kernelspec": {
      "name": "python3",
      "display_name": "Python 3"
    },
    "language_info": {
      "name": "python"
    }
  },
  "cells": [
    {
      "cell_type": "markdown",
      "source": [
        "# **Import Libraries**\n"
      ],
      "metadata": {
        "id": "gv1qgbz6jwyW"
      }
    },
    {
      "cell_type": "code",
      "execution_count": 339,
      "metadata": {
        "id": "vtr00GnbhUil"
      },
      "outputs": [],
      "source": [
        "import pandas as pd\n",
        "import numpy as np\n",
        "import seaborn as sns\n",
        "import matplotlib.pyplot as plt\n",
        "from sklearn.model_selection import train_test_split\n",
        "from sklearn.model_selection import GridSearchCV\n",
        "from sklearn.tree import DecisionTreeClassifier\n",
        "from sklearn.neighbors import KNeighborsClassifier\n",
        "from sklearn.linear_model import LogisticRegression\n",
        "from sklearn.metrics import accuracy_score,recall_score,precision_score,f1_score,confusion_matrix\n",
        "from sklearn.preprocessing import StandardScaler\n",
        "import copy"
      ]
    },
    {
      "cell_type": "code",
      "source": [
        "data = pd.read_csv(\"/content/Breast_Cancer.csv\")\n",
        "df = copy.deepcopy(data)"
      ],
      "metadata": {
        "id": "oHqt4-VrkStE"
      },
      "execution_count": 340,
      "outputs": []
    },
    {
      "cell_type": "markdown",
      "source": [
        "# **Remove Null**"
      ],
      "metadata": {
        "id": "0jumVLOAkbY5"
      }
    },
    {
      "cell_type": "code",
      "source": [
        "df.drop(['id'],axis=1,inplace=True)\n",
        "df.drop(['Unnamed: 32'],axis=1,inplace=True)"
      ],
      "metadata": {
        "id": "etqBgHJMkZvG"
      },
      "execution_count": 341,
      "outputs": []
    },
    {
      "cell_type": "markdown",
      "source": [
        "# **Encoding**"
      ],
      "metadata": {
        "id": "g2B7MQt_k6OD"
      }
    },
    {
      "cell_type": "code",
      "source": [
        "df['diagnosis']=[1  if i== 'M'  else 0  for i in df['diagnosis']]"
      ],
      "metadata": {
        "id": "esn5vR3-k8-_"
      },
      "execution_count": 342,
      "outputs": []
    },
    {
      "cell_type": "markdown",
      "source": [
        "# **Split Data**"
      ],
      "metadata": {
        "id": "US00hBNBlwAU"
      }
    },
    {
      "cell_type": "code",
      "source": [
        "x=df.drop('diagnosis',axis=1)\n",
        "y=df['diagnosis']"
      ],
      "metadata": {
        "id": "TOsB2B8omAbg"
      },
      "execution_count": 343,
      "outputs": []
    },
    {
      "cell_type": "code",
      "source": [
        "x_train,x_test,y_train,y_test=train_test_split(x,y,test_size=.3, random_state=42)\n",
        "\n"
      ],
      "metadata": {
        "id": "Bjt0bVrHmRQL"
      },
      "execution_count": 344,
      "outputs": []
    },
    {
      "cell_type": "markdown",
      "source": [
        "# **Scaling**"
      ],
      "metadata": {
        "id": "3JcPvAD8mTIW"
      }
    },
    {
      "cell_type": "code",
      "source": [
        "scaler=StandardScaler()\n",
        "x_train=scaler.fit_transform(x_train)\n",
        "x_test=scaler.transform(x_test)"
      ],
      "metadata": {
        "id": "PQN3eBRjmniH"
      },
      "execution_count": 345,
      "outputs": []
    },
    {
      "cell_type": "markdown",
      "source": [
        "# **Logistic Regression**"
      ],
      "metadata": {
        "id": "QasXe0a8pAyJ"
      }
    },
    {
      "cell_type": "code",
      "source": [
        "model_lg=LogisticRegression()\n",
        "model_lg.fit(x_train,y_train)\n",
        "y_lg_pred=model_lg.predict(x_test)"
      ],
      "metadata": {
        "id": "Hj3MpunQpIMD"
      },
      "execution_count": 346,
      "outputs": []
    },
    {
      "cell_type": "markdown",
      "source": [
        "# **Evaluate Logistic Regression**"
      ],
      "metadata": {
        "id": "N1w0z0R_qa_4"
      }
    },
    {
      "cell_type": "code",
      "source": [
        "accuracy_lg=accuracy_score(y_lg_pred,y_test)\n",
        "recall_lg=recall_score(y_lg_pred,y_test)\n",
        "precision_lg=precision_score(y_lg_pred,y_test)\n",
        "f1_lg=f1_score(y_lg_pred,y_test)"
      ],
      "metadata": {
        "id": "khLuBsbsNABn"
      },
      "execution_count": 347,
      "outputs": []
    },
    {
      "cell_type": "markdown",
      "source": [
        "# **Decision Tree**"
      ],
      "metadata": {
        "id": "GWU2SZ4vrjOz"
      }
    },
    {
      "cell_type": "code",
      "source": [
        "model_dt=DecisionTreeClassifier()\n",
        "model_dt=model_dt.fit(x_train,y_train)\n",
        "y_dt_pred=model_dt.predict(x_test)"
      ],
      "metadata": {
        "id": "kyEQonXxqflz"
      },
      "execution_count": 348,
      "outputs": []
    },
    {
      "cell_type": "markdown",
      "source": [
        "# **Evaluate Decesion Tree**"
      ],
      "metadata": {
        "id": "De9jBnQ3sQ2_"
      }
    },
    {
      "cell_type": "code",
      "source": [
        "accuracy_dt=accuracy_score(y_dt_pred,y_test)\n",
        "recall_dt=recall_score(y_dt_pred,y_test)\n",
        "precision_dt=precision_score(y_dt_pred,y_test)\n",
        "f1_dt=f1_score(y_dt_pred,y_test)\n"
      ],
      "metadata": {
        "id": "k0aIsLVBsVCI"
      },
      "execution_count": 349,
      "outputs": []
    },
    {
      "cell_type": "markdown",
      "source": [
        "# **KNN**"
      ],
      "metadata": {
        "id": "pOT9jeHYs0AX"
      }
    },
    {
      "cell_type": "code",
      "source": [
        "model_knn = KNeighborsClassifier(n_neighbors=7)\n",
        "model_knn.fit(x_train, y_train)\n",
        "y_knn_pred=model_knn.predict(x_test)"
      ],
      "metadata": {
        "id": "QH2qhiJ4s2Pa"
      },
      "execution_count": 350,
      "outputs": []
    },
    {
      "cell_type": "markdown",
      "source": [
        "# **Evaluate KNN**"
      ],
      "metadata": {
        "id": "6inSgVx1tMTE"
      }
    },
    {
      "cell_type": "code",
      "source": [
        "accuracy_knn=accuracy_score(y_knn_pred,y_test)\n",
        "recall_knn=recall_score(y_knn_pred,y_test)\n",
        "precision_knn=precision_score(y_knn_pred,y_test)\n",
        "f1_knn=f1_score(y_knn_pred,y_test)"
      ],
      "metadata": {
        "id": "XQUsGoSBtPg5"
      },
      "execution_count": 351,
      "outputs": []
    },
    {
      "cell_type": "markdown",
      "source": [
        "# **Chart Accuracy**"
      ],
      "metadata": {
        "id": "ERQAfoVWuqnI"
      }
    },
    {
      "cell_type": "code",
      "source": [
        "models =['Logistic Regression','Decision Tree','KNN']\n",
        "acurracy =[accuracy_lg , accuracy_dt  , accuracy_knn]\n",
        "\n",
        "fig = plt.figure(figsize = (5, 5))\n",
        "plt.bar(models, acurracy, color ='maroon', width = 0.2,alpha=.7)\n",
        "plt.ylabel(\"Accuracy\")\n",
        "plt.show()"
      ],
      "metadata": {
        "colab": {
          "base_uri": "https://localhost:8080/",
          "height": 445
        },
        "id": "Z0z0Hh2huvRo",
        "outputId": "ea59dedd-96f4-4f8a-c5ce-4c01e6e1a2f6"
      },
      "execution_count": 352,
      "outputs": [
        {
          "output_type": "display_data",
          "data": {
            "text/plain": [
              "<Figure size 500x500 with 1 Axes>"
            ],
            "image/png": "[encoded data removed]"
          },
          "metadata": {}
        }
      ]
    },
    {
      "cell_type": "markdown",
      "source": [
        "# **Chart Recall**"
      ],
      "metadata": {
        "id": "H7ywSpKS7jHn"
      }
    },
    {
      "cell_type": "code",
      "source": [
        "recall  =[recall_lg , recall_dt  , recall_knn]\n",
        "\n",
        "fig2 = plt.figure(figsize = (5, 5))\n",
        "plt.bar(models, recall, color ='blue', width = 0.2,alpha=.7)\n",
        "plt.ylabel(\"Recall\")\n",
        "plt.show()"
      ],
      "metadata": {
        "colab": {
          "base_uri": "https://localhost:8080/",
          "height": 445
        },
        "id": "-AUUxSlT6Spo",
        "outputId": "bf91caf4-9639-4405-c19c-02cf6c17bb0e"
      },
      "execution_count": 353,
      "outputs": [
        {
          "output_type": "display_data",
          "data": {
            "text/plain": [
              "<Figure size 500x500 with 1 Axes>"
            ],
            "image/png": "[encoded data removed]"
          },
          "metadata": {}
        }
      ]
    },
    {
      "cell_type": "markdown",
      "source": [
        "# **Chart Precision**"
      ],
      "metadata": {
        "id": "Oqfaln3n7yrE"
      }
    },
    {
      "cell_type": "code",
      "source": [
        "models =['Logistic Regression','Decision Tree','KNN']\n",
        "precision =[precision_lg , precision_dt  , precision_knn]\n",
        "\n",
        "fig = plt.figure(figsize = (5, 5))\n",
        "plt.bar(models, precision, color ='orange', width = 0.2,alpha=.7)\n",
        "plt.ylabel(\"Precision\")\n",
        "plt.show()"
      ],
      "metadata": {
        "colab": {
          "base_uri": "https://localhost:8080/",
          "height": 445
        },
        "id": "pfQVDfQG73uy",
        "outputId": "dfb1b881-d3d8-4425-f941-cde4ce541710"
      },
      "execution_count": 354,
      "outputs": [
        {
          "output_type": "display_data",
          "data": {
            "text/plain": [
              "<Figure size 500x500 with 1 Axes>"
            ],
            "image/png": "[encoded data removed]"
          },
          "metadata": {}
        }
      ]
    },
    {
      "cell_type": "markdown",
      "source": [
        "# **Chart F1 Score**"
      ],
      "metadata": {
        "id": "yX-T7uBg8bP1"
      }
    },
    {
      "cell_type": "code",
      "source": [
        "models =['Logistic Regression','Decision Tree','KNN']\n",
        "f1_score =[f1_lg , f1_dt  , f1_knn]\n",
        "\n",
        "fig = plt.figure(figsize = (5, 5))\n",
        "plt.bar(models, f1_score, color ='green', width = 0.2,alpha=.7)\n",
        "plt.ylabel(\"F1 Score\")\n",
        "plt.show()"
      ],
      "metadata": {
        "colab": {
          "base_uri": "https://localhost:8080/",
          "height": 445
        },
        "id": "09musejx8jgH",
        "outputId": "22612e6a-c2f6-493b-f0ca-605731235477"
      },
      "execution_count": 355,
      "outputs": [
        {
          "output_type": "display_data",
          "data": {
            "text/plain": [
              "<Figure size 500x500 with 1 Axes>"
            ],
            "image/png": "[encoded data removed]"
          },
          "metadata": {}
        }
      ]
    }
  ]
}