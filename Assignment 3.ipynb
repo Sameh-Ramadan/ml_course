{
 "cells": [
  {
   "cell_type": "code",
   "execution_count": 1,
   "id": "487bdc8d-6c77-4336-a78f-093b332dc2c2",
   "metadata": {
    "tags": []
   },
   "outputs": [],
   "source": [
    "# 1. Implement Fibonacci series using recursion.\n",
    "# Fn = Fn-1 + Fn-2\n",
    "# with seed values : F0 = 0 and F1 = 1\n",
    "# 0, 1, 1, 2, 3, 5, 8, 13, 21, 34, 55, 89, 144"
   ]
  },
  {
   "cell_type": "code",
   "execution_count": 3,
   "id": "0459b09b-f940-49e9-845b-2ea2b8feb8d7",
   "metadata": {
    "tags": []
   },
   "outputs": [
    {
     "name": "stdout",
     "output_type": "stream",
     "text": [
      "0\n",
      "1\n",
      "1\n",
      "2\n",
      "3\n",
      "5\n",
      "8\n",
      "13\n",
      "21\n",
      "34\n"
     ]
    }
   ],
   "source": [
    "def Fibonacci(n):\n",
    " \n",
    "    # Check if input is 0 then it will\n",
    "    # print incorrect input\n",
    "    if n < 0:\n",
    "        print(\"Incorrect input\")\n",
    " \n",
    "    # Check if n is 0\n",
    "    # then it will return 0\n",
    "    elif n == 0:\n",
    "        return 0\n",
    " \n",
    "    # Check if n is 1,2\n",
    "    # it will return 1\n",
    "    elif n == 1 or n == 2:\n",
    "        return 1\n",
    " \n",
    "    else:\n",
    "        return Fibonacci(n-1) + Fibonacci(n-2)\n",
    " \n",
    " \n",
    "# Driver Program\n",
    "for i in range(10):\n",
    "    print(Fibonacci(i))"
   ]
  },
  {
   "cell_type": "code",
   "execution_count": 13,
   "id": "be4d1fa5-e895-497b-984a-49c3acd5c4df",
   "metadata": {
    "tags": []
   },
   "outputs": [
    {
     "name": "stdout",
     "output_type": "stream",
     "text": [
      "{'Green': 2, 'Red': 4, 'Blue': 1}\n"
     ]
    }
   ],
   "source": [
    "# 2. Write a Python program to find all the unique words and count the frequency of occurrence from a given list of strings.\n",
    "def word_count(words):\n",
    "    word_set = set(words)\n",
    "    word_counts = {}\n",
    "    for word in word_set:\n",
    "        word_counts[word] = words.count(word)\n",
    "    return word_counts\n",
    "\n",
    "words = ['Red', 'Green', 'Red', 'Blue', 'Red', 'Red', 'Green']\n",
    "print(word_count(words))"
   ]
  },
  {
   "cell_type": "code",
   "execution_count": null,
   "id": "ac77ef89-951a-4a43-97ab-7e25af65586d",
   "metadata": {},
   "outputs": [],
   "source": [
    "# 3.Write a Python program that finds all pairs of elements in a list whose sum is equal to a given value."
   ]
  },
  {
   "cell_type": "code",
   "execution_count": 14,
   "id": "5c4a8fb8-2d78-4bce-8997-4a76bb5ca276",
   "metadata": {
    "tags": []
   },
   "outputs": [
    {
     "name": "stdout",
     "output_type": "stream",
     "text": [
      "[(7, 5), (9, 3)]\n"
     ]
    }
   ],
   "source": [
    "def find_pairs(nums, k):\n",
    "    result = []\n",
    "    seen = set()\n",
    " \n",
    "    for num in lst:\n",
    "        complement = K - num\n",
    "        if complement in seen:\n",
    "            result.append((num, complement))\n",
    "        seen.add(num)\n",
    " \n",
    "    return(result)\n",
    "\n",
    "lst = [1, 5, 3, 7, 9]\n",
    "k = 12\n",
    "print(find_pairs(lst,k))"
   ]
  },
  {
   "cell_type": "code",
   "execution_count": 17,
   "id": "6364c018-4507-4d1d-a7c1-9c3c52c1a377",
   "metadata": {
    "tags": []
   },
   "outputs": [],
   "source": [
    "# 4.Write a Python program to find the two numbers whose product is maximum among all the pairs in a given list of numbers"
   ]
  },
  {
   "cell_type": "code",
   "execution_count": 20,
   "id": "a672b2a1-41f2-44b0-98c0-324770633c3f",
   "metadata": {
    "tags": []
   },
   "outputs": [
    {
     "name": "stdout",
     "output_type": "stream",
     "text": [
      "(8, 9)\n",
      "(7, 9)\n"
     ]
    }
   ],
   "source": [
    "def max_product(nums):\n",
    "    nums_set = set(nums)\n",
    "    max_product = 0\n",
    "    max_num1 = 0\n",
    "    max_num2 = 0\n",
    "    for n1 in nums_set:\n",
    "        for n2 in nums_set:\n",
    "            if n1 != n2 and n1 * n2 > max_product:\n",
    "                max_product = n1 * n2\n",
    "                max_num1 = n1\n",
    "                max_num2 = n2\n",
    "    return (max_num1, max_num2)\n",
    "\n",
    "nums = [1, 2, 3, 4, 5, 6, 7, 8, 9]\n",
    "print(max_product(nums))\n",
    "\n",
    "nums2 = [1, -2, -3, 4, 5, -6, 7, -8, 9]\n",
    "print(max_product(nums2))"
   ]
  },
  {
   "cell_type": "code",
   "execution_count": 24,
   "id": "69c4f85d-92e4-404e-b49f-0fa2f1d78250",
   "metadata": {
    "tags": []
   },
   "outputs": [],
   "source": [
    "# 5.Write a Python function that takes a number as a parameter and checks whether the number is prime or not.\n",
    "# A prime number is a natural number greater than 1 that has no positive divisors other than 1 and itself"
   ]
  },
  {
   "cell_type": "code",
   "execution_count": 42,
   "id": "66b7b81d-0fe6-4a80-a636-d2900ba12820",
   "metadata": {
    "tags": []
   },
   "outputs": [
    {
     "name": "stdin",
     "output_type": "stream",
     "text": [
      "Enter number 12\n"
     ]
    },
    {
     "name": "stdout",
     "output_type": "stream",
     "text": [
      "False\n"
     ]
    }
   ],
   "source": [
    "def is_prime(num):\n",
    "    # If given number is greater than 1\n",
    "    if num > 1:\n",
    "        # Iterate from 2 to n / 2\n",
    "        for i in range(2, int(num/2)+1):\n",
    "            # If num is divisible by any number between\n",
    "            # 2 and n / 2, it is not prime\n",
    "            if (num % i) == 0:\n",
    "                return False\n",
    "                break\n",
    "        else:\n",
    "            return True\n",
    "    else:\n",
    "        return False\n",
    "\n",
    "number = input (\"Enter number\")\n",
    "print(is_prime(int(number)))"
   ]
  },
  {
   "cell_type": "code",
   "execution_count": null,
   "id": "a6239945-1bad-4a7a-b692-b9e1a0598346",
   "metadata": {},
   "outputs": [],
   "source": [
    "# 6.Write a Python function to print the even numbers from a given list."
   ]
  },
  {
   "cell_type": "code",
   "execution_count": 54,
   "id": "8533f2d1-fd86-4d64-9cb2-de5d031dd8d1",
   "metadata": {
    "tags": []
   },
   "outputs": [
    {
     "name": "stdout",
     "output_type": "stream",
     "text": [
      "2\n",
      "4\n",
      "4\n",
      "4\n",
      "12\n",
      "14\n",
      "30\n",
      "6\n",
      "8\n"
     ]
    }
   ],
   "source": [
    "def print_even(numbers):\n",
    "    i = 0\n",
    "    size = len(numbers)\n",
    "    for i in range(size):\n",
    "        if(numbers[i] % 2 == 0):\n",
    "            print(numbers[i])\n",
    "    \n",
    "nums = [1, 2, 3, 4,4,4,12,14,30,3,7, 5, 6, 7, 8, 9]\n",
    "print_even(nums)"
   ]
  },
  {
   "cell_type": "code",
   "execution_count": 56,
   "id": "a5921f91-ec80-4867-920c-e88c8a741f28",
   "metadata": {
    "tags": []
   },
   "outputs": [],
   "source": [
    "# 7.Write a function that will take a given string and reverse the order of words"
   ]
  },
  {
   "cell_type": "code",
   "execution_count": 63,
   "id": "83841a5c-e96f-49a4-be39-5448b65e1c67",
   "metadata": {
    "tags": []
   },
   "outputs": [
    {
     "name": "stdin",
     "output_type": "stream",
     "text": [
      "Enter text Sameh Ahmed Ramadan Abd El Motalib\n"
     ]
    },
    {
     "name": "stdout",
     "output_type": "stream",
     "text": [
      "Motalib El Abd Ramadan Ahmed Sameh\n"
     ]
    }
   ],
   "source": [
    "def reverse_word(words):\n",
    "    string = \"geeks quiz practice code\"\n",
    "    # reversing words in a given string\n",
    "    s = words.split()[::-1]\n",
    "    l = []\n",
    "    for i in s:\n",
    "        # appending reversed words to l\n",
    "        l.append(i)\n",
    "    # printing reverse words\n",
    "    print(\" \".join(l))\n",
    "\n",
    "text = input (\"Enter text\")\n",
    "reverse_word(text)"
   ]
  },
  {
   "cell_type": "code",
   "execution_count": null,
   "id": "07ba54ce-13ad-44f2-b5dd-bc89691d9318",
   "metadata": {},
   "outputs": [],
   "source": []
  },
  {
   "cell_type": "code",
   "execution_count": null,
   "id": "7af24fab-7664-4a8b-84f5-3f475f11935a",
   "metadata": {},
   "outputs": [],
   "source": []
  }
 ],
 "metadata": {
  "kernelspec": {
   "display_name": "Python 3 (ipykernel)",
   "language": "python",
   "name": "python3"
  },
  "language_info": {
   "codemirror_mode": {
    "name": "ipython",
    "version": 3
   },
   "file_extension": ".py",
   "mimetype": "text/x-python",
   "name": "python",
   "nbconvert_exporter": "python",
   "pygments_lexer": "ipython3",
   "version": "3.11.4"
  }
 },
 "nbformat": 4,
 "nbformat_minor": 5
}
